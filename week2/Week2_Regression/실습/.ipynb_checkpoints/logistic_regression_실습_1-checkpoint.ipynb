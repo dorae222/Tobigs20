{
 "cells": [
  {
   "cell_type": "markdown",
   "metadata": {
    "id": "ZYEL_44vvjmE"
   },
   "source": [
    "# **로지스틱 회귀 모델 구축**\n",
    "\n"
   ]
  },
  {
   "cell_type": "markdown",
   "metadata": {
    "id": "Kgqb-5tnvnJY"
   },
   "source": [
    "## **모듈 불러오기**"
   ]
  },
  {
   "cell_type": "code",
   "execution_count": 42,
   "metadata": {
    "id": "ak334WXEvaJc"
   },
   "outputs": [],
   "source": [
    "\n",
    "#실습용 데이터\n",
    "from sklearn.datasets import load_breast_cancer\n",
    "\n",
    "#데이터 전처리\n",
    "import pandas as pd\n",
    "import numpy as np\n",
    "from sklearn.preprocessing import StandardScaler\n",
    "\n",
    "#머신러닝 모델 구축 / 평가\n",
    "from sklearn.linear_model import LogisticRegression\n",
    "from sklearn.model_selection import train_test_split\n",
    "from sklearn.metrics import roc_curve,accuracy_score,confusion_matrix,recall_score,precision_score\n",
    "\n",
    "#데이터 시각화\n",
    "import seaborn as sns\n",
    "import matplotlib.pyplot as plt\n",
    "import matplotlib.font_manager as fm\n",
    "\n",
    "#한글 폰트\n",
    "plt.style.use('seaborn')\n",
    "plt.rc('font', family='DejaVu Sans')\n",
    "plt.rc('axes', unicode_minus=False)"
   ]
  },
  {
   "cell_type": "markdown",
   "metadata": {
    "id": "BojEH_nJv3Wf"
   },
   "source": [
    "## **데이터 불러오기**"
   ]
  },
  {
   "cell_type": "code",
   "execution_count": 43,
   "metadata": {
    "colab": {
     "base_uri": "https://localhost:8080/"
    },
    "id": "yR7YLDkjvzsm",
    "outputId": "3811ac3e-6e28-418f-921a-8a4ff7832765"
   },
   "outputs": [
    {
     "name": "stdout",
     "output_type": "stream",
     "text": [
      ".. _breast_cancer_dataset:\n",
      "\n",
      "Breast cancer wisconsin (diagnostic) dataset\n",
      "--------------------------------------------\n",
      "\n",
      "**Data Set Characteristics:**\n",
      "\n",
      "    :Number of Instances: 569\n",
      "\n",
      "    :Number of Attributes: 30 numeric, predictive attributes and the class\n",
      "\n",
      "    :Attribute Information:\n",
      "        - radius (mean of distances from center to points on the perimeter)\n",
      "        - texture (standard deviation of gray-scale values)\n",
      "        - perimeter\n",
      "        - area\n",
      "        - smoothness (local variation in radius lengths)\n",
      "        - compactness (perimeter^2 / area - 1.0)\n",
      "        - concavity (severity of concave portions of the contour)\n",
      "        - concave points (number of concave portions of the contour)\n",
      "        - symmetry \n",
      "        - fractal dimension (\"coastline approximation\" - 1)\n",
      "\n",
      "        The mean, standard error, and \"worst\" or largest (mean of the three\n",
      "        largest values) of these features were computed for each image,\n",
      "        resulting in 30 features.  For instance, field 3 is Mean Radius, field\n",
      "        13 is Radius SE, field 23 is Worst Radius.\n",
      "\n",
      "        - class:\n",
      "                - WDBC-Malignant\n",
      "                - WDBC-Benign\n",
      "\n",
      "    :Summary Statistics:\n",
      "\n",
      "    ===================================== ====== ======\n",
      "                                           Min    Max\n",
      "    ===================================== ====== ======\n",
      "    radius (mean):                        6.981  28.11\n",
      "    texture (mean):                       9.71   39.28\n",
      "    perimeter (mean):                     43.79  188.5\n",
      "    area (mean):                          143.5  2501.0\n",
      "    smoothness (mean):                    0.053  0.163\n",
      "    compactness (mean):                   0.019  0.345\n",
      "    concavity (mean):                     0.0    0.427\n",
      "    concave points (mean):                0.0    0.201\n",
      "    symmetry (mean):                      0.106  0.304\n",
      "    fractal dimension (mean):             0.05   0.097\n",
      "    radius (standard error):              0.112  2.873\n",
      "    texture (standard error):             0.36   4.885\n",
      "    perimeter (standard error):           0.757  21.98\n",
      "    area (standard error):                6.802  542.2\n",
      "    smoothness (standard error):          0.002  0.031\n",
      "    compactness (standard error):         0.002  0.135\n",
      "    concavity (standard error):           0.0    0.396\n",
      "    concave points (standard error):      0.0    0.053\n",
      "    symmetry (standard error):            0.008  0.079\n",
      "    fractal dimension (standard error):   0.001  0.03\n",
      "    radius (worst):                       7.93   36.04\n",
      "    texture (worst):                      12.02  49.54\n",
      "    perimeter (worst):                    50.41  251.2\n",
      "    area (worst):                         185.2  4254.0\n",
      "    smoothness (worst):                   0.071  0.223\n",
      "    compactness (worst):                  0.027  1.058\n",
      "    concavity (worst):                    0.0    1.252\n",
      "    concave points (worst):               0.0    0.291\n",
      "    symmetry (worst):                     0.156  0.664\n",
      "    fractal dimension (worst):            0.055  0.208\n",
      "    ===================================== ====== ======\n",
      "\n",
      "    :Missing Attribute Values: None\n",
      "\n",
      "    :Class Distribution: 212 - Malignant, 357 - Benign\n",
      "\n",
      "    :Creator:  Dr. William H. Wolberg, W. Nick Street, Olvi L. Mangasarian\n",
      "\n",
      "    :Donor: Nick Street\n",
      "\n",
      "    :Date: November, 1995\n",
      "\n",
      "This is a copy of UCI ML Breast Cancer Wisconsin (Diagnostic) datasets.\n",
      "https://goo.gl/U2Uwz2\n",
      "\n",
      "Features are computed from a digitized image of a fine needle\n",
      "aspirate (FNA) of a breast mass.  They describe\n",
      "characteristics of the cell nuclei present in the image.\n",
      "\n",
      "Separating plane described above was obtained using\n",
      "Multisurface Method-Tree (MSM-T) [K. P. Bennett, \"Decision Tree\n",
      "Construction Via Linear Programming.\" Proceedings of the 4th\n",
      "Midwest Artificial Intelligence and Cognitive Science Society,\n",
      "pp. 97-101, 1992], a classification method which uses linear\n",
      "programming to construct a decision tree.  Relevant features\n",
      "were selected using an exhaustive search in the space of 1-4\n",
      "features and 1-3 separating planes.\n",
      "\n",
      "The actual linear program used to obtain the separating plane\n",
      "in the 3-dimensional space is that described in:\n",
      "[K. P. Bennett and O. L. Mangasarian: \"Robust Linear\n",
      "Programming Discrimination of Two Linearly Inseparable Sets\",\n",
      "Optimization Methods and Software 1, 1992, 23-34].\n",
      "\n",
      "This database is also available through the UW CS ftp server:\n",
      "\n",
      "ftp ftp.cs.wisc.edu\n",
      "cd math-prog/cpo-dataset/machine-learn/WDBC/\n",
      "\n",
      ".. topic:: References\n",
      "\n",
      "   - W.N. Street, W.H. Wolberg and O.L. Mangasarian. Nuclear feature extraction \n",
      "     for breast tumor diagnosis. IS&T/SPIE 1993 International Symposium on \n",
      "     Electronic Imaging: Science and Technology, volume 1905, pages 861-870,\n",
      "     San Jose, CA, 1993.\n",
      "   - O.L. Mangasarian, W.N. Street and W.H. Wolberg. Breast cancer diagnosis and \n",
      "     prognosis via linear programming. Operations Research, 43(4), pages 570-577, \n",
      "     July-August 1995.\n",
      "   - W.H. Wolberg, W.N. Street, and O.L. Mangasarian. Machine learning techniques\n",
      "     to diagnose breast cancer from fine-needle aspirates. Cancer Letters 77 (1994) \n",
      "     163-171.\n"
     ]
    }
   ],
   "source": [
    "#설명\n",
    "breast_cancer=load_breast_cancer()\n",
    "print(breast_cancer.DESCR)"
   ]
  },
  {
   "cell_type": "code",
   "execution_count": 44,
   "metadata": {
    "colab": {
     "base_uri": "https://localhost:8080/"
    },
    "id": "BtZ1j804v8fs",
    "outputId": "c9019c94-7b98-454c-dd38-c3c409358da4"
   },
   "outputs": [
    {
     "name": "stdout",
     "output_type": "stream",
     "text": [
      "['mean radius' 'mean texture' 'mean perimeter' 'mean area'\n",
      " 'mean smoothness' 'mean compactness' 'mean concavity'\n",
      " 'mean concave points' 'mean symmetry' 'mean fractal dimension'\n",
      " 'radius error' 'texture error' 'perimeter error' 'area error'\n",
      " 'smoothness error' 'compactness error' 'concavity error'\n",
      " 'concave points error' 'symmetry error' 'fractal dimension error'\n",
      " 'worst radius' 'worst texture' 'worst perimeter' 'worst area'\n",
      " 'worst smoothness' 'worst compactness' 'worst concavity'\n",
      " 'worst concave points' 'worst symmetry' 'worst fractal dimension']\n",
      "['malignant' 'benign']\n"
     ]
    }
   ],
   "source": [
    "#변수 확인\n",
    "print(breast_cancer.feature_names)\n",
    "print(breast_cancer.target_names)\n",
    "\n",
    "# 0 : malignant (유방암 있음), 1 : benign (유방암 없음)"
   ]
  },
  {
   "cell_type": "code",
   "execution_count": 45,
   "metadata": {
    "id": "1C2Umb9RwOWe"
   },
   "outputs": [],
   "source": [
    "#유방암일 확률(1), 유방암이 아닐 확률 (0)으로 label변경\n",
    "breast_cancer.target=np.where(breast_cancer.target==0,1,0)"
   ]
  },
  {
   "cell_type": "markdown",
   "metadata": {
    "id": "XC52PepPxPef"
   },
   "source": [
    "## **데이터 전처리**"
   ]
  },
  {
   "cell_type": "code",
   "execution_count": 46,
   "metadata": {
    "id": "OPNNE8ljwelq"
   },
   "outputs": [],
   "source": [
    "#train / test set 분리\n",
    "X_train,X_test,y_train,y_test=train_test_split(breast_cancer.data,breast_cancer.target,test_size=0.3,random_state=2021)"
   ]
  },
  {
   "cell_type": "code",
   "execution_count": 47,
   "metadata": {
    "id": "-tBrlaDtxeAT"
   },
   "outputs": [],
   "source": [
    "#칼럼 단위 정규화\n",
    "normalizer=StandardScaler()\n",
    "X_train=normalizer.fit_transform(X_train)\n",
    "X_test=normalizer.transform(X_test)"
   ]
  },
  {
   "cell_type": "markdown",
   "metadata": {
    "id": "LEaQ13VGyehV"
   },
   "source": [
    "## **로지스틱 회귀 모델 구축**"
   ]
  },
  {
   "cell_type": "markdown",
   "metadata": {
    "id": "dZ3Tiazbyk0n"
   },
   "source": [
    "### **모델 불러오기**"
   ]
  },
  {
   "cell_type": "code",
   "execution_count": 48,
   "metadata": {
    "colab": {
     "base_uri": "https://localhost:8080/"
    },
    "id": "QXd7lYkfxsHZ",
    "outputId": "4c12ee0e-47f9-492c-dda1-f7b4f141d6e7"
   },
   "outputs": [
    {
     "data": {
      "text/plain": [
       "LogisticRegression(C=1.0, class_weight=None, dual=False, fit_intercept=True,\n",
       "                   intercept_scaling=1, l1_ratio=None, max_iter=100,\n",
       "                   multi_class='auto', n_jobs=None, penalty='l2',\n",
       "                   random_state=None, solver='lbfgs', tol=0.0001, verbose=0,\n",
       "                   warm_start=False)"
      ]
     },
     "execution_count": 48,
     "metadata": {
      "tags": []
     },
     "output_type": "execute_result"
    }
   ],
   "source": [
    "model=LogisticRegression()\n",
    "model.fit(X_train,y_train)"
   ]
  },
  {
   "cell_type": "markdown",
   "metadata": {
    "id": "kYYND-64yti9"
   },
   "source": [
    "### **$\\beta$ 값 확인하기**"
   ]
  },
  {
   "cell_type": "code",
   "execution_count": 49,
   "metadata": {
    "colab": {
     "base_uri": "https://localhost:8080/",
     "height": 999
    },
    "id": "LTwpVqVhysFr",
    "outputId": "bc7059c3-a399-4283-b188-f086073481cc"
   },
   "outputs": [
    {
     "data": {
      "text/html": [
       "<div>\n",
       "<style scoped>\n",
       "    .dataframe tbody tr th:only-of-type {\n",
       "        vertical-align: middle;\n",
       "    }\n",
       "\n",
       "    .dataframe tbody tr th {\n",
       "        vertical-align: top;\n",
       "    }\n",
       "\n",
       "    .dataframe thead th {\n",
       "        text-align: right;\n",
       "    }\n",
       "</style>\n",
       "<table border=\"1\" class=\"dataframe\">\n",
       "  <thead>\n",
       "    <tr style=\"text-align: right;\">\n",
       "      <th></th>\n",
       "      <th>beta</th>\n",
       "      <th>exp(beta)</th>\n",
       "      <th>interprt</th>\n",
       "    </tr>\n",
       "  </thead>\n",
       "  <tbody>\n",
       "    <tr>\n",
       "      <th>const</th>\n",
       "      <td>-0.42</td>\n",
       "      <td>0.66</td>\n",
       "      <td>protective</td>\n",
       "    </tr>\n",
       "    <tr>\n",
       "      <th>mean radius</th>\n",
       "      <td>0.54</td>\n",
       "      <td>1.72</td>\n",
       "      <td>risky</td>\n",
       "    </tr>\n",
       "    <tr>\n",
       "      <th>mean texture</th>\n",
       "      <td>0.92</td>\n",
       "      <td>2.51</td>\n",
       "      <td>risky</td>\n",
       "    </tr>\n",
       "    <tr>\n",
       "      <th>mean perimeter</th>\n",
       "      <td>0.55</td>\n",
       "      <td>1.73</td>\n",
       "      <td>risky</td>\n",
       "    </tr>\n",
       "    <tr>\n",
       "      <th>mean area</th>\n",
       "      <td>0.56</td>\n",
       "      <td>1.75</td>\n",
       "      <td>risky</td>\n",
       "    </tr>\n",
       "    <tr>\n",
       "      <th>mean smoothness</th>\n",
       "      <td>0.13</td>\n",
       "      <td>1.14</td>\n",
       "      <td>risky</td>\n",
       "    </tr>\n",
       "    <tr>\n",
       "      <th>mean compactness</th>\n",
       "      <td>-0.48</td>\n",
       "      <td>0.62</td>\n",
       "      <td>protective</td>\n",
       "    </tr>\n",
       "    <tr>\n",
       "      <th>mean concavity</th>\n",
       "      <td>0.93</td>\n",
       "      <td>2.53</td>\n",
       "      <td>risky</td>\n",
       "    </tr>\n",
       "    <tr>\n",
       "      <th>mean concave points</th>\n",
       "      <td>0.72</td>\n",
       "      <td>2.05</td>\n",
       "      <td>risky</td>\n",
       "    </tr>\n",
       "    <tr>\n",
       "      <th>mean symmetry</th>\n",
       "      <td>0.23</td>\n",
       "      <td>1.26</td>\n",
       "      <td>risky</td>\n",
       "    </tr>\n",
       "    <tr>\n",
       "      <th>mean fractal dimension</th>\n",
       "      <td>-0.64</td>\n",
       "      <td>0.53</td>\n",
       "      <td>protective</td>\n",
       "    </tr>\n",
       "    <tr>\n",
       "      <th>radius error</th>\n",
       "      <td>1.09</td>\n",
       "      <td>2.97</td>\n",
       "      <td>risky</td>\n",
       "    </tr>\n",
       "    <tr>\n",
       "      <th>texture error</th>\n",
       "      <td>-0.56</td>\n",
       "      <td>0.57</td>\n",
       "      <td>protective</td>\n",
       "    </tr>\n",
       "    <tr>\n",
       "      <th>perimeter error</th>\n",
       "      <td>0.81</td>\n",
       "      <td>2.25</td>\n",
       "      <td>risky</td>\n",
       "    </tr>\n",
       "    <tr>\n",
       "      <th>area error</th>\n",
       "      <td>0.87</td>\n",
       "      <td>2.39</td>\n",
       "      <td>risky</td>\n",
       "    </tr>\n",
       "    <tr>\n",
       "      <th>smoothness error</th>\n",
       "      <td>0.29</td>\n",
       "      <td>1.34</td>\n",
       "      <td>risky</td>\n",
       "    </tr>\n",
       "    <tr>\n",
       "      <th>compactness error</th>\n",
       "      <td>-0.46</td>\n",
       "      <td>0.63</td>\n",
       "      <td>protective</td>\n",
       "    </tr>\n",
       "    <tr>\n",
       "      <th>concavity error</th>\n",
       "      <td>-0.14</td>\n",
       "      <td>0.87</td>\n",
       "      <td>protective</td>\n",
       "    </tr>\n",
       "    <tr>\n",
       "      <th>concave points error</th>\n",
       "      <td>0.27</td>\n",
       "      <td>1.31</td>\n",
       "      <td>risky</td>\n",
       "    </tr>\n",
       "    <tr>\n",
       "      <th>symmetry error</th>\n",
       "      <td>-0.42</td>\n",
       "      <td>0.66</td>\n",
       "      <td>protective</td>\n",
       "    </tr>\n",
       "    <tr>\n",
       "      <th>fractal dimension error</th>\n",
       "      <td>-0.41</td>\n",
       "      <td>0.66</td>\n",
       "      <td>protective</td>\n",
       "    </tr>\n",
       "    <tr>\n",
       "      <th>worst radius</th>\n",
       "      <td>0.78</td>\n",
       "      <td>2.18</td>\n",
       "      <td>risky</td>\n",
       "    </tr>\n",
       "    <tr>\n",
       "      <th>worst texture</th>\n",
       "      <td>1.16</td>\n",
       "      <td>3.19</td>\n",
       "      <td>risky</td>\n",
       "    </tr>\n",
       "    <tr>\n",
       "      <th>worst perimeter</th>\n",
       "      <td>0.75</td>\n",
       "      <td>2.12</td>\n",
       "      <td>risky</td>\n",
       "    </tr>\n",
       "    <tr>\n",
       "      <th>worst area</th>\n",
       "      <td>0.77</td>\n",
       "      <td>2.16</td>\n",
       "      <td>risky</td>\n",
       "    </tr>\n",
       "    <tr>\n",
       "      <th>worst smoothness</th>\n",
       "      <td>1.01</td>\n",
       "      <td>2.75</td>\n",
       "      <td>risky</td>\n",
       "    </tr>\n",
       "    <tr>\n",
       "      <th>worst compactness</th>\n",
       "      <td>-0.08</td>\n",
       "      <td>0.92</td>\n",
       "      <td>protective</td>\n",
       "    </tr>\n",
       "    <tr>\n",
       "      <th>worst concavity</th>\n",
       "      <td>0.68</td>\n",
       "      <td>1.97</td>\n",
       "      <td>risky</td>\n",
       "    </tr>\n",
       "    <tr>\n",
       "      <th>worst concave points</th>\n",
       "      <td>0.99</td>\n",
       "      <td>2.69</td>\n",
       "      <td>risky</td>\n",
       "    </tr>\n",
       "    <tr>\n",
       "      <th>worst symmetry</th>\n",
       "      <td>1.1</td>\n",
       "      <td>3.0</td>\n",
       "      <td>risky</td>\n",
       "    </tr>\n",
       "    <tr>\n",
       "      <th>worst fractal dimension</th>\n",
       "      <td>0.17</td>\n",
       "      <td>1.19</td>\n",
       "      <td>risky</td>\n",
       "    </tr>\n",
       "  </tbody>\n",
       "</table>\n",
       "</div>"
      ],
      "text/plain": [
       "                          beta exp(beta)    interprt\n",
       "const                    -0.42      0.66  protective\n",
       "mean radius               0.54      1.72       risky\n",
       "mean texture              0.92      2.51       risky\n",
       "mean perimeter            0.55      1.73       risky\n",
       "mean area                 0.56      1.75       risky\n",
       "mean smoothness           0.13      1.14       risky\n",
       "mean compactness         -0.48      0.62  protective\n",
       "mean concavity            0.93      2.53       risky\n",
       "mean concave points       0.72      2.05       risky\n",
       "mean symmetry             0.23      1.26       risky\n",
       "mean fractal dimension   -0.64      0.53  protective\n",
       "radius error              1.09      2.97       risky\n",
       "texture error            -0.56      0.57  protective\n",
       "perimeter error           0.81      2.25       risky\n",
       "area error                0.87      2.39       risky\n",
       "smoothness error          0.29      1.34       risky\n",
       "compactness error        -0.46      0.63  protective\n",
       "concavity error          -0.14      0.87  protective\n",
       "concave points error      0.27      1.31       risky\n",
       "symmetry error           -0.42      0.66  protective\n",
       "fractal dimension error  -0.41      0.66  protective\n",
       "worst radius              0.78      2.18       risky\n",
       "worst texture             1.16      3.19       risky\n",
       "worst perimeter           0.75      2.12       risky\n",
       "worst area                0.77      2.16       risky\n",
       "worst smoothness          1.01      2.75       risky\n",
       "worst compactness        -0.08      0.92  protective\n",
       "worst concavity           0.68      1.97       risky\n",
       "worst concave points      0.99      2.69       risky\n",
       "worst symmetry             1.1       3.0       risky\n",
       "worst fractal dimension   0.17      1.19       risky"
      ]
     },
     "execution_count": 49,
     "metadata": {
      "tags": []
     },
     "output_type": "execute_result"
    }
   ],
   "source": [
    "#칼럼에 따른 beta, exp(beta) 확인\n",
    "column_name=[\"const\"]+breast_cancer.feature_names.tolist()\n",
    "beta=np.concatenate([model.intercept_,model.coef_.reshape(-1)]).round(2)\n",
    "odds=np.exp(beta).round(2)\n",
    "interpret=np.where(beta>0,\"risky\",\"protective\")\n",
    "\n",
    "#beta 해석\n",
    "beta_analysis=pd.DataFrame(np.c_[beta,odds,interpret],index=column_name,columns=[\"beta\",\"exp(beta)\",\"interprt\"])\n",
    "beta_analysis"
   ]
  },
  {
   "cell_type": "markdown",
   "metadata": {
    "id": "g7y0rqeD1qS-"
   },
   "source": [
    "### **test data 예측**"
   ]
  },
  {
   "cell_type": "code",
   "execution_count": 50,
   "metadata": {
    "colab": {
     "base_uri": "https://localhost:8080/"
    },
    "id": "9gH_vpRa1uT1",
    "outputId": "84ce3764-2350-4b7c-b1bd-401b8b5abe73"
   },
   "outputs": [
    {
     "data": {
      "text/plain": [
       "array([[9.99587046e-01, 4.12953680e-04],\n",
       "       [9.99985165e-01, 1.48350838e-05],\n",
       "       [9.92817867e-01, 7.18213277e-03],\n",
       "       [2.53352894e-13, 1.00000000e+00],\n",
       "       [9.99986549e-01, 1.34505123e-05],\n",
       "       [9.81298434e-02, 9.01870157e-01],\n",
       "       [9.80024204e-07, 9.99999020e-01],\n",
       "       [9.99932732e-01, 6.72677815e-05],\n",
       "       [8.15117335e-05, 9.99918488e-01],\n",
       "       [9.99995214e-01, 4.78559272e-06],\n",
       "       [9.99999649e-01, 3.51231679e-07],\n",
       "       [6.98821879e-06, 9.99993012e-01],\n",
       "       [9.89324333e-01, 1.06756670e-02],\n",
       "       [5.05948740e-04, 9.99494051e-01],\n",
       "       [9.99274489e-01, 7.25511212e-04],\n",
       "       [9.99218536e-01, 7.81464092e-04],\n",
       "       [9.37761744e-01, 6.22382562e-02],\n",
       "       [9.99971984e-01, 2.80156564e-05],\n",
       "       [9.99964918e-01, 3.50820533e-05],\n",
       "       [1.03711710e-03, 9.98962883e-01],\n",
       "       [9.24921333e-01, 7.50786674e-02],\n",
       "       [9.78028441e-01, 2.19715590e-02],\n",
       "       [2.99663721e-04, 9.99700336e-01],\n",
       "       [9.94848393e-01, 5.15160717e-03],\n",
       "       [9.99857216e-01, 1.42783867e-04],\n",
       "       [9.99359007e-01, 6.40992765e-04],\n",
       "       [9.99552940e-01, 4.47060143e-04],\n",
       "       [9.99999999e-01, 7.90069026e-10],\n",
       "       [8.75233698e-02, 9.12476630e-01],\n",
       "       [9.66537707e-01, 3.34622930e-02],\n",
       "       [9.99924353e-01, 7.56467094e-05],\n",
       "       [9.99948807e-01, 5.11927313e-05],\n",
       "       [9.92041957e-01, 7.95804328e-03],\n",
       "       [9.99988106e-01, 1.18936614e-05],\n",
       "       [9.42688649e-09, 9.99999991e-01],\n",
       "       [8.36392490e-07, 9.99999164e-01],\n",
       "       [9.99755514e-01, 2.44485688e-04],\n",
       "       [6.12612120e-07, 9.99999387e-01],\n",
       "       [5.52036138e-04, 9.99447964e-01],\n",
       "       [9.99954113e-01, 4.58867674e-05],\n",
       "       [9.99864795e-01, 1.35205199e-04],\n",
       "       [9.58580570e-01, 4.14194301e-02],\n",
       "       [9.44080891e-01, 5.59191085e-02],\n",
       "       [5.48718375e-01, 4.51281625e-01],\n",
       "       [9.97963482e-01, 2.03651836e-03],\n",
       "       [9.15709065e-01, 8.42909347e-02],\n",
       "       [6.98094594e-05, 9.99930191e-01],\n",
       "       [9.95583577e-01, 4.41642305e-03],\n",
       "       [9.99751141e-01, 2.48859195e-04],\n",
       "       [9.99995742e-01, 4.25804391e-06],\n",
       "       [9.75438519e-01, 2.45614806e-02],\n",
       "       [1.61223814e-05, 9.99983878e-01],\n",
       "       [9.01508399e-01, 9.84916012e-02],\n",
       "       [2.23882599e-04, 9.99776117e-01],\n",
       "       [9.51212493e-01, 4.87875073e-02],\n",
       "       [9.99275257e-01, 7.24742653e-04],\n",
       "       [3.23898697e-03, 9.96761013e-01],\n",
       "       [1.10002779e-08, 9.99999989e-01],\n",
       "       [1.14018532e-03, 9.98859815e-01],\n",
       "       [9.99468983e-01, 5.31017096e-04],\n",
       "       [9.99646782e-01, 3.53218365e-04],\n",
       "       [1.30066571e-02, 9.86993343e-01],\n",
       "       [1.23249609e-04, 9.99876750e-01],\n",
       "       [9.99977497e-01, 2.25029218e-05],\n",
       "       [1.46441313e-01, 8.53558687e-01],\n",
       "       [9.97215774e-01, 2.78422590e-03],\n",
       "       [9.97482851e-01, 2.51714943e-03],\n",
       "       [1.04292314e-03, 9.98957077e-01],\n",
       "       [7.62686856e-01, 2.37313144e-01],\n",
       "       [9.99990951e-01, 9.04946189e-06],\n",
       "       [1.91206917e-01, 8.08793083e-01],\n",
       "       [2.59724837e-04, 9.99740275e-01],\n",
       "       [9.94043818e-01, 5.95618163e-03],\n",
       "       [2.03014017e-03, 9.97969860e-01],\n",
       "       [9.47537563e-01, 5.24624375e-02],\n",
       "       [1.41346158e-03, 9.98586538e-01],\n",
       "       [9.91267290e-01, 8.73270969e-03],\n",
       "       [6.39527766e-01, 3.60472234e-01],\n",
       "       [9.95760021e-01, 4.23997931e-03],\n",
       "       [3.37677183e-02, 9.66232282e-01],\n",
       "       [4.53995420e-08, 9.99999955e-01],\n",
       "       [4.48940132e-01, 5.51059868e-01],\n",
       "       [9.95844837e-01, 4.15516339e-03],\n",
       "       [9.99689209e-01, 3.10790665e-04],\n",
       "       [9.88562299e-01, 1.14377013e-02],\n",
       "       [9.94766879e-01, 5.23312063e-03],\n",
       "       [1.51162661e-07, 9.99999849e-01],\n",
       "       [9.85212536e-01, 1.47874644e-02],\n",
       "       [9.99952191e-01, 4.78086126e-05],\n",
       "       [9.99991122e-01, 8.87776471e-06],\n",
       "       [8.81371929e-01, 1.18628071e-01],\n",
       "       [9.92172977e-01, 7.82702298e-03],\n",
       "       [9.99941053e-01, 5.89467824e-05],\n",
       "       [9.99992425e-01, 7.57459379e-06],\n",
       "       [1.29476492e-04, 9.99870524e-01],\n",
       "       [9.90257070e-01, 9.74293027e-03],\n",
       "       [7.06545933e-13, 1.00000000e+00],\n",
       "       [9.99995217e-01, 4.78345841e-06],\n",
       "       [1.68893856e-05, 9.99983111e-01],\n",
       "       [1.85481591e-02, 9.81451841e-01],\n",
       "       [9.98977586e-01, 1.02241445e-03],\n",
       "       [1.14096360e-06, 9.99998859e-01],\n",
       "       [9.92485818e-01, 7.51418226e-03],\n",
       "       [9.99954959e-01, 4.50408080e-05],\n",
       "       [9.21578744e-08, 9.99999908e-01],\n",
       "       [1.64369058e-02, 9.83563094e-01],\n",
       "       [9.99980867e-01, 1.91333093e-05],\n",
       "       [7.39382198e-06, 9.99992606e-01],\n",
       "       [2.70909802e-01, 7.29090198e-01],\n",
       "       [9.99922810e-01, 7.71901001e-05],\n",
       "       [9.99959149e-01, 4.08506794e-05],\n",
       "       [9.85933380e-01, 1.40666197e-02],\n",
       "       [7.08309786e-03, 9.92916902e-01],\n",
       "       [9.99954478e-01, 4.55215569e-05],\n",
       "       [9.99791921e-01, 2.08079323e-04],\n",
       "       [9.99646770e-01, 3.53230017e-04],\n",
       "       [9.97930923e-01, 2.06907664e-03],\n",
       "       [2.47643284e-06, 9.99997524e-01],\n",
       "       [6.26082097e-04, 9.99373918e-01],\n",
       "       [9.87263228e-01, 1.27367718e-02],\n",
       "       [5.44659227e-05, 9.99945534e-01],\n",
       "       [9.99121210e-01, 8.78790072e-04],\n",
       "       [9.16208892e-01, 8.37911079e-02],\n",
       "       [9.99995912e-01, 4.08847702e-06],\n",
       "       [9.99999804e-01, 1.96301233e-07],\n",
       "       [9.98995975e-01, 1.00402485e-03],\n",
       "       [9.99627592e-01, 3.72408135e-04],\n",
       "       [9.96260917e-01, 3.73908301e-03],\n",
       "       [9.92111626e-01, 7.88837381e-03],\n",
       "       [1.01051186e-03, 9.98989488e-01],\n",
       "       [1.24962213e-05, 9.99987504e-01],\n",
       "       [9.95509664e-01, 4.49033617e-03],\n",
       "       [9.99896245e-01, 1.03755216e-04],\n",
       "       [5.16003791e-03, 9.94839962e-01],\n",
       "       [9.46271195e-01, 5.37288053e-02],\n",
       "       [2.33922239e-01, 7.66077761e-01],\n",
       "       [9.99929052e-01, 7.09483978e-05],\n",
       "       [9.99988076e-01, 1.19238169e-05],\n",
       "       [9.97461616e-01, 2.53838410e-03],\n",
       "       [2.36209030e-04, 9.99763791e-01],\n",
       "       [5.32197390e-06, 9.99994678e-01],\n",
       "       [6.07370832e-01, 3.92629168e-01],\n",
       "       [9.99998950e-01, 1.05023547e-06],\n",
       "       [7.47118816e-08, 9.99999925e-01],\n",
       "       [2.05498252e-03, 9.97945017e-01],\n",
       "       [2.12718732e-13, 1.00000000e+00],\n",
       "       [9.98901965e-01, 1.09803478e-03],\n",
       "       [3.82832555e-03, 9.96171674e-01],\n",
       "       [5.71393377e-10, 9.99999999e-01],\n",
       "       [5.38648083e-01, 4.61351917e-01],\n",
       "       [7.33538722e-01, 2.66461278e-01],\n",
       "       [9.84799618e-01, 1.52003824e-02],\n",
       "       [9.96135917e-01, 3.86408309e-03],\n",
       "       [2.52881986e-08, 9.99999975e-01],\n",
       "       [9.99479934e-01, 5.20066124e-04],\n",
       "       [9.99008738e-01, 9.91261836e-04],\n",
       "       [8.41401567e-03, 9.91585984e-01],\n",
       "       [2.02105397e-04, 9.99797895e-01],\n",
       "       [2.16018302e-05, 9.99978398e-01],\n",
       "       [8.25773988e-01, 1.74226012e-01],\n",
       "       [1.13331244e-06, 9.99998867e-01],\n",
       "       [9.99531417e-01, 4.68583229e-04],\n",
       "       [9.23894748e-01, 7.61052516e-02],\n",
       "       [9.99851225e-01, 1.48775234e-04],\n",
       "       [9.98513838e-01, 1.48616186e-03],\n",
       "       [1.35792478e-05, 9.99986421e-01],\n",
       "       [9.99774928e-01, 2.25071821e-04],\n",
       "       [9.99910615e-01, 8.93846395e-05],\n",
       "       [9.91195745e-01, 8.80425457e-03],\n",
       "       [8.30966553e-01, 1.69033447e-01],\n",
       "       [7.40401576e-01, 2.59598424e-01]])"
      ]
     },
     "execution_count": 50,
     "metadata": {
      "tags": []
     },
     "output_type": "execute_result"
    }
   ],
   "source": [
    "model.predict_proba(X_test)"
   ]
  },
  {
   "cell_type": "code",
   "execution_count": 51,
   "metadata": {
    "colab": {
     "base_uri": "https://localhost:8080/"
    },
    "id": "KXltLMKI1z_t",
    "outputId": "4140ea57-291e-484a-e8c9-3999fa90fc37"
   },
   "outputs": [
    {
     "data": {
      "text/plain": [
       "array([[4.08614196e-04],\n",
       "       [1.42624030e-05],\n",
       "       [7.25139527e-03],\n",
       "       [1.00000000e+00],\n",
       "       [1.32898448e-05],\n",
       "       [9.02381926e-01],\n",
       "       [9.99999007e-01],\n",
       "       [6.67644924e-05],\n",
       "       [9.99917102e-01],\n",
       "       [4.82436340e-06],\n",
       "       [3.53619794e-07],\n",
       "       [9.99993088e-01],\n",
       "       [1.05944860e-02],\n",
       "       [9.99490855e-01],\n",
       "       [7.25129180e-04],\n",
       "       [7.81765785e-04],\n",
       "       [6.21258983e-02],\n",
       "       [2.78856383e-05],\n",
       "       [3.46988034e-05],\n",
       "       [9.98973906e-01],\n",
       "       [7.35081584e-02],\n",
       "       [2.20214909e-02],\n",
       "       [9.99720954e-01],\n",
       "       [5.09278431e-03],\n",
       "       [1.39938834e-04],\n",
       "       [6.38890985e-04],\n",
       "       [4.45449731e-04],\n",
       "       [7.76146716e-10],\n",
       "       [9.10469843e-01],\n",
       "       [3.28604625e-02],\n",
       "       [7.55151360e-05],\n",
       "       [5.11000480e-05],\n",
       "       [8.13808103e-03],\n",
       "       [1.17633761e-05],\n",
       "       [9.99999991e-01],\n",
       "       [9.99999157e-01],\n",
       "       [2.47149697e-04],\n",
       "       [9.99999383e-01],\n",
       "       [9.99454660e-01],\n",
       "       [4.58982621e-05],\n",
       "       [1.34710372e-04],\n",
       "       [4.14767027e-02],\n",
       "       [5.62862369e-02],\n",
       "       [4.53314900e-01],\n",
       "       [2.03306303e-03],\n",
       "       [8.44437973e-02],\n",
       "       [9.99928442e-01],\n",
       "       [4.34726638e-03],\n",
       "       [2.49617706e-04],\n",
       "       [4.23848703e-06],\n",
       "       [2.39968244e-02],\n",
       "       [9.99983747e-01],\n",
       "       [9.74220710e-02],\n",
       "       [9.99774951e-01],\n",
       "       [4.87103040e-02],\n",
       "       [7.23265746e-04],\n",
       "       [9.96744300e-01],\n",
       "       [9.99999989e-01],\n",
       "       [9.98882203e-01],\n",
       "       [5.26298814e-04],\n",
       "       [3.58275545e-04],\n",
       "       [9.86868854e-01],\n",
       "       [9.99874256e-01],\n",
       "       [2.24179496e-05],\n",
       "       [8.51339982e-01],\n",
       "       [2.78358763e-03],\n",
       "       [2.50864273e-03],\n",
       "       [9.98945503e-01],\n",
       "       [2.39783745e-01],\n",
       "       [8.98596793e-06],\n",
       "       [8.06559564e-01],\n",
       "       [9.99740807e-01],\n",
       "       [5.98113924e-03],\n",
       "       [9.97953401e-01],\n",
       "       [5.18952840e-02],\n",
       "       [9.98624608e-01],\n",
       "       [8.87030856e-03],\n",
       "       [3.57273172e-01],\n",
       "       [4.21419653e-03],\n",
       "       [9.65522903e-01],\n",
       "       [9.99999954e-01],\n",
       "       [5.54701481e-01],\n",
       "       [4.13570574e-03],\n",
       "       [3.12823386e-04],\n",
       "       [1.13726045e-02],\n",
       "       [5.19386436e-03],\n",
       "       [9.99999848e-01],\n",
       "       [1.46890912e-02],\n",
       "       [4.77177860e-05],\n",
       "       [8.76066919e-06],\n",
       "       [1.18911495e-01],\n",
       "       [7.88154158e-03],\n",
       "       [5.78798058e-05],\n",
       "       [7.63291124e-06],\n",
       "       [9.99870670e-01],\n",
       "       [9.67185126e-03],\n",
       "       [1.00000000e+00],\n",
       "       [4.84038255e-06],\n",
       "       [9.99983253e-01],\n",
       "       [9.81481311e-01],\n",
       "       [1.01898630e-03],\n",
       "       [9.99998861e-01],\n",
       "       [7.48317963e-03],\n",
       "       [4.59667457e-05],\n",
       "       [9.99999908e-01],\n",
       "       [9.83518739e-01],\n",
       "       [1.91770306e-05],\n",
       "       [9.99992640e-01],\n",
       "       [7.28841802e-01],\n",
       "       [7.72158205e-05],\n",
       "       [4.09494952e-05],\n",
       "       [1.41656035e-02],\n",
       "       [9.92833988e-01],\n",
       "       [4.59470547e-05],\n",
       "       [2.09955397e-04],\n",
       "       [3.51129577e-04],\n",
       "       [2.07497136e-03],\n",
       "       [9.99997546e-01],\n",
       "       [9.99379631e-01],\n",
       "       [1.25407441e-02],\n",
       "       [9.99944698e-01],\n",
       "       [8.69681933e-04],\n",
       "       [8.41152572e-02],\n",
       "       [4.11287861e-06],\n",
       "       [1.99560021e-07],\n",
       "       [1.00474645e-03],\n",
       "       [3.70647251e-04],\n",
       "       [3.72551345e-03],\n",
       "       [7.80883484e-03],\n",
       "       [9.98994349e-01],\n",
       "       [9.99987577e-01],\n",
       "       [4.49137596e-03],\n",
       "       [1.04428142e-04],\n",
       "       [9.94831320e-01],\n",
       "       [5.34853574e-02],\n",
       "       [7.65102883e-01],\n",
       "       [7.10100614e-05],\n",
       "       [1.17841557e-05],\n",
       "       [2.50400112e-03],\n",
       "       [9.99772009e-01],\n",
       "       [9.99994615e-01],\n",
       "       [3.90236117e-01],\n",
       "       [1.05631626e-06],\n",
       "       [9.99999927e-01],\n",
       "       [9.97926859e-01],\n",
       "       [1.00000000e+00],\n",
       "       [1.09485691e-03],\n",
       "       [9.96076635e-01],\n",
       "       [9.99999999e-01],\n",
       "       [4.60049125e-01],\n",
       "       [2.68158935e-01],\n",
       "       [1.50240974e-02],\n",
       "       [3.90002586e-03],\n",
       "       [9.99999975e-01],\n",
       "       [5.17353599e-04],\n",
       "       [9.87152759e-04],\n",
       "       [9.91424690e-01],\n",
       "       [9.99803485e-01],\n",
       "       [9.99978036e-01],\n",
       "       [1.73134317e-01],\n",
       "       [9.99998831e-01],\n",
       "       [4.69308688e-04],\n",
       "       [7.61538613e-02],\n",
       "       [1.48091189e-04],\n",
       "       [1.46458905e-03],\n",
       "       [9.99986271e-01],\n",
       "       [2.23196288e-04],\n",
       "       [9.02324335e-05],\n",
       "       [8.87862181e-03],\n",
       "       [1.68902014e-01],\n",
       "       [2.56462862e-01]])"
      ]
     },
     "execution_count": 51,
     "metadata": {
      "tags": []
     },
     "output_type": "execute_result"
    }
   ],
   "source": [
    "#패키지 이용하지 않고 직접 계산하는 경우\n",
    "\n",
    "#beta 곱하기 X\n",
    "Xbeta=np.matmul(np.c_[np.ones(X_test.shape[0]),X_test],beta.reshape(-1,1))\n",
    "\n",
    "#P(Y=1) 계산\n",
    "P_1=1/(1+np.exp(-Xbeta))\n",
    "P_1"
   ]
  },
  {
   "cell_type": "markdown",
   "metadata": {
    "id": "MnX9tsoA1j1f"
   },
   "source": [
    "## **성능 평가하기**"
   ]
  },
  {
   "cell_type": "markdown",
   "metadata": {
    "id": "vomv-6Y42nW2"
   },
   "source": [
    "### **cutoff 조절**"
   ]
  },
  {
   "cell_type": "code",
   "execution_count": 52,
   "metadata": {
    "colab": {
     "base_uri": "https://localhost:8080/"
    },
    "id": "4jXoNvnJz4CR",
    "outputId": "c8a2a3e6-1f2c-4d9e-de8f-fd745b9b6de0"
   },
   "outputs": [
    {
     "name": "stdout",
     "output_type": "stream",
     "text": [
      "정확도 :  0.83 민감도 :  0.98 정밀도 :  0.69 cut off :  0.01\n",
      "정확도 :  0.94 민감도 :  0.97 정밀도 :  0.87 cut off :  0.12\n",
      "정확도 :  0.95 민감도 :  0.97 정밀도 :  0.91 cut off :  0.23\n",
      "정확도 :  0.96 민감도 :  0.95 정밀도 :  0.94 cut off :  0.34\n",
      "정확도 :  0.96 민감도 :  0.94 정밀도 :  0.95 cut off :  0.45\n",
      "정확도 :  0.97 민감도 :  0.94 정밀도 :  0.98 cut off :  0.55\n",
      "정확도 :  0.96 민감도 :  0.92 정밀도 :  0.98 cut off :  0.66\n",
      "정확도 :  0.96 민감도 :  0.91 정밀도 :  1.00 cut off :  0.77\n",
      "정확도 :  0.95 민감도 :  0.88 정밀도 :  1.00 cut off :  0.88\n",
      "정확도 :  0.92 민감도 :  0.78 정밀도 :  1.00 cut off :  0.99\n"
     ]
    }
   ],
   "source": [
    "Cut_off=np.linspace(0.01,0.99,10) #cut off 값 만들기\n",
    "for cutoff in Cut_off:\n",
    "  y_pred=np.where(P_1.reshape(-1)>=cutoff,1,0)\n",
    "  #cutoff 보다 크면 1 (유방암), 아니면 0 (유방암 X)\n",
    "  acc=accuracy_score(y_true=y_test,y_pred=y_pred) #정확도\n",
    "  recall=recall_score(y_true=y_test,y_pred=y_pred) #민감도\n",
    "  precision=precision_score(y_true=y_test,y_pred=y_pred) #정밀도\n",
    "\n",
    "  print(f\"정확도 : {acc : 0.2f}\",f\"민감도 : {recall : 0.2f}\",f\"정밀도 : {precision : 0.2f}\",f\"cut off : {cutoff : 0.2f}\")"
   ]
  },
  {
   "cell_type": "markdown",
   "metadata": {
    "id": "FuD-4wE14Hff"
   },
   "source": [
    "### **ROC curve 그리기**"
   ]
  },
  {
   "cell_type": "code",
   "execution_count": 53,
   "metadata": {
    "colab": {
     "base_uri": "https://localhost:8080/",
     "height": 630
    },
    "id": "h3UEwAZi3BZN",
    "outputId": "751c2131-827a-4b16-a4b4-e5ef7bb79804"
   },
   "outputs": [
    {
     "data": {
      "image/png": "[encoded data removed]",
      "text/plain": [
       "<Figure size 720x720 with 1 Axes>"
      ]
     },
     "metadata": {
      "tags": []
     },
     "output_type": "display_data"
    }
   ],
   "source": [
    "#X_test에 대해 y=1(유방암)일 확률\n",
    "probs=model.predict_proba(X_test)[:,1]\n",
    "\n",
    "#ROC curve x축, y축\n",
    "model_fpr, model_tpr, threshold1=roc_curve(y_test,probs)\n",
    "\n",
    "#random은 유방암 유무를 랜덤하게 판정한 것\n",
    "random_fpr,random_tpr, threshold2=roc_curve(y_test,[0 for i in range(X_test.__len__())])\n",
    "\n",
    "#plot\n",
    "plt.figure(figsize=(10,10))\n",
    "plt.plot(model_fpr,model_tpr,marker=\".\",label=\"Logisitic\")\n",
    "plt.plot(random_fpr,random_tpr,linestyle=\"--\",label=\"Random\")\n",
    "\n",
    "#axis\n",
    "plt.xlabel(\"False Positive Rate\",size=20)\n",
    "plt.ylabel(\"True Positive Rate\",size=20)\n",
    "\n",
    "#show the legend\n",
    "plt.legend(fontsize=20)\n",
    "\n",
    "plt.title(\"ROC curve\")\n",
    "plt.show()"
   ]
  },
  {
   "cell_type": "code",
   "execution_count": 53,
   "metadata": {
    "id": "g5CZm5tP41RZ"
   },
   "outputs": [],
   "source": []
  }
 ],
 "metadata": {
  "colab": {
   "name": "logistic_regression_실습_1.ipynb",
   "provenance": []
  },
  "kernelspec": {
   "display_name": "Python 3 (ipykernel)",
   "language": "python",
   "name": "python3"
  },
  "language_info": {
   "codemirror_mode": {
    "name": "ipython",
    "version": 3
   },
   "file_extension": ".py",
   "mimetype": "text/x-python",
   "name": "python",
   "nbconvert_exporter": "python",
   "pygments_lexer": "ipython3",
   "version": "3.9.13"
  },
  "varInspector": {
   "cols": {
    "lenName": 16,
    "lenType": 16,
    "lenVar": 40
   },
   "kernels_config": {
    "python": {
     "delete_cmd_postfix": "",
     "delete_cmd_prefix": "del ",
     "library": "var_list.py",
     "varRefreshCmd": "print(var_dic_list())"
    },
    "r": {
     "delete_cmd_postfix": ") ",
     "delete_cmd_prefix": "rm(",
     "library": "var_list.r",
     "varRefreshCmd": "cat(var_dic_list()) "
    }
   },
   "types_to_exclude": [
    "module",
    "function",
    "builtin_function_or_method",
    "instance",
    "_Feature"
   ],
   "window_display": false
  }
 },
 "nbformat": 4,
 "nbformat_minor": 1
}

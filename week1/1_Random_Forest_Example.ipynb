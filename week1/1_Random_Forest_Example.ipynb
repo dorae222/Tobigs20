{
 "cells": [
  {
   "cell_type": "markdown",
   "metadata": {},
   "source": [
    "### 전체 프로세스 정리\n",
    "0. 데이터셋 적재\n",
    "1. 전처리(결측치 및 이상치)\n",
    "    - 결측치 없음\n",
    "    - 거래금액(y)의 분포가 왼쪽으로 치우쳐져, 로그 변환을 통해 정규화 진행\n",
    "2. 훈련셋과 테스트셋 데이터 분리\n",
    "    - train_test_split 함수를 사용하여 데이터를 학습 데이터와 테스트 데이터로 분리합니다.\n",
    "    - test_size=0.2는 전체 데이터의 20%를 테스트 데이터로 사용하겠다는 의미입니다.\n",
    "3. 모델(RandomForest, XGBoost)\n",
    "    - 각각 모델을 선언한다. + 각 모델에 대한 설명\n",
    "    - 훈련 데이터셋으로 학습을 진행한다.\n",
    "4. 테스트 데이터셋을 통해 모델의 성능을 검증한다.\n",
    "    - 이 때, MAE와 MAPE를 평가지표로 활용합니다.\n",
    "    - 실제 값(y)와 예측 값(ŷ) 비교합니다.\n",
    "5. 변수 중요도\n",
    "    - 각 모델 라이브러리에 내장된 importance 메서드를 통해<br>모델 생성시 중요 변수들을 파악합니다."
   ]
  },
  {
   "cell_type": "code",
   "execution_count": null,
   "metadata": {
    "colab": {
     "base_uri": "https://localhost:8080/"
    },
    "id": "6oMohjBKWQ0O",
    "outputId": "35c9d2b1-8eaa-4924-8f4b-79c8de2d0f09"
   },
   "outputs": [
    {
     "name": "stdout",
     "output_type": "stream",
     "text": [
      "Reading package lists... Done\n",
      "Building dependency tree       \n",
      "Reading state information... Done\n",
      "The following package was automatically installed and is no longer required:\n",
      "  libnvidia-common-460\n",
      "Use 'sudo apt autoremove' to remove it.\n",
      "The following NEW packages will be installed:\n",
      "  fonts-nanum\n",
      "0 upgraded, 1 newly installed, 0 to remove and 21 not upgraded.\n",
      "Need to get 9,604 kB of archives.\n",
      "After this operation, 29.5 MB of additional disk space will be used.\n",
      "Get:1 http://archive.ubuntu.com/ubuntu bionic/universe amd64 fonts-nanum all 20170925-1 [9,604 kB]\n",
      "Fetched 9,604 kB in 1s (7,272 kB/s)\n",
      "debconf: unable to initialize frontend: Dialog\n",
      "debconf: (No usable dialog-like program is installed, so the dialog based frontend cannot be used. at /usr/share/perl5/Debconf/FrontEnd/Dialog.pm line 76, <> line 1.)\n",
      "debconf: falling back to frontend: Readline\n",
      "debconf: unable to initialize frontend: Readline\n",
      "debconf: (This frontend requires a controlling tty.)\n",
      "debconf: falling back to frontend: Teletype\n",
      "dpkg-preconfigure: unable to re-open stdin: \n",
      "Selecting previously unselected package fonts-nanum.\n",
      "(Reading database ... 124016 files and directories currently installed.)\n",
      "Preparing to unpack .../fonts-nanum_20170925-1_all.deb ...\n",
      "Unpacking fonts-nanum (20170925-1) ...\n",
      "Setting up fonts-nanum (20170925-1) ...\n",
      "Processing triggers for fontconfig (2.12.6-0ubuntu2) ...\n",
      "/usr/share/fonts: caching, new cache contents: 0 fonts, 1 dirs\n",
      "/usr/share/fonts/truetype: caching, new cache contents: 0 fonts, 3 dirs\n",
      "/usr/share/fonts/truetype/humor-sans: caching, new cache contents: 1 fonts, 0 dirs\n",
      "/usr/share/fonts/truetype/liberation: caching, new cache contents: 16 fonts, 0 dirs\n",
      "/usr/share/fonts/truetype/nanum: caching, new cache contents: 10 fonts, 0 dirs\n",
      "/usr/local/share/fonts: caching, new cache contents: 0 fonts, 0 dirs\n",
      "/root/.local/share/fonts: skipping, no such directory\n",
      "/root/.fonts: skipping, no such directory\n",
      "/var/cache/fontconfig: cleaning cache directory\n",
      "/root/.cache/fontconfig: not cleaning non-existent cache directory\n",
      "/root/.fontconfig: not cleaning non-existent cache directory\n",
      "fc-cache: succeeded\n"
     ]
    }
   ],
   "source": [
    "### matplotlib 한글 폰트 깨짐 방지\n",
    "### 이 셀 실행시키고 런타임->런타임 다시 시작 한 다음에\n",
    "### 이 셀은 건너뛰고 아래부터 실행 시키면 됨.\n",
    "\n",
    "!sudo apt-get install -y fonts-nanum\n",
    "!sudo fc-cache -fv\n",
    "!rm ~/.cache/matplotlib -rf"
   ]
  },
  {
   "cell_type": "code",
   "execution_count": null,
   "metadata": {
    "id": "VNVIPO2MQsVv"
   },
   "outputs": [],
   "source": [
    "# 필요한 라이브러리 호출\n",
    "import pandas as pd\n",
    "import numpy as np\n",
    "import matplotlib.pyplot as plt\n",
    "from matplotlib import font_manager, rc\n",
    "plt.rc('font', family='NanumBarunGothic')\n",
    "import warnings\n",
    "warnings.filterwarnings(action='ignore')"
   ]
  },
  {
   "cell_type": "markdown",
   "metadata": {},
   "source": [
    "### 0. 데이터 적재"
   ]
  },
  {
   "cell_type": "code",
   "execution_count": null,
   "metadata": {
    "colab": {
     "base_uri": "https://localhost:8080/",
     "height": 206
    },
    "id": "uEH04h4vQwuc",
    "outputId": "f7036c14-e9a4-4622-ac32-e194bd964198",
    "scrolled": true
   },
   "outputs": [
    {
     "data": {
      "text/html": [
       "\n",
       "  <div id=\"df-bf965a20-ebdd-4261-b7aa-99f03f911e4e\">\n",
       "    <div class=\"colab-df-container\">\n",
       "      <div>\n",
       "<style scoped>\n",
       "    .dataframe tbody tr th:only-of-type {\n",
       "        vertical-align: middle;\n",
       "    }\n",
       "\n",
       "    .dataframe tbody tr th {\n",
       "        vertical-align: top;\n",
       "    }\n",
       "\n",
       "    .dataframe thead th {\n",
       "        text-align: right;\n",
       "    }\n",
       "</style>\n",
       "<table border=\"1\" class=\"dataframe\">\n",
       "  <thead>\n",
       "    <tr style=\"text-align: right;\">\n",
       "      <th></th>\n",
       "      <th>전용면적</th>\n",
       "      <th>층</th>\n",
       "      <th>경과년수</th>\n",
       "      <th>지하철</th>\n",
       "      <th>대형몰</th>\n",
       "      <th>병원</th>\n",
       "      <th>최고층</th>\n",
       "      <th>총세대수</th>\n",
       "      <th>용적률</th>\n",
       "      <th>건폐율</th>\n",
       "      <th>거래금액</th>\n",
       "    </tr>\n",
       "  </thead>\n",
       "  <tbody>\n",
       "    <tr>\n",
       "      <th>0</th>\n",
       "      <td>42.12</td>\n",
       "      <td>2</td>\n",
       "      <td>23</td>\n",
       "      <td>0.46</td>\n",
       "      <td>0.4</td>\n",
       "      <td>2.2</td>\n",
       "      <td>8</td>\n",
       "      <td>342</td>\n",
       "      <td>422</td>\n",
       "      <td>74</td>\n",
       "      <td>15100</td>\n",
       "    </tr>\n",
       "    <tr>\n",
       "      <th>1</th>\n",
       "      <td>50.22</td>\n",
       "      <td>4</td>\n",
       "      <td>23</td>\n",
       "      <td>0.46</td>\n",
       "      <td>0.4</td>\n",
       "      <td>2.2</td>\n",
       "      <td>8</td>\n",
       "      <td>342</td>\n",
       "      <td>422</td>\n",
       "      <td>74</td>\n",
       "      <td>17600</td>\n",
       "    </tr>\n",
       "    <tr>\n",
       "      <th>2</th>\n",
       "      <td>42.12</td>\n",
       "      <td>2</td>\n",
       "      <td>23</td>\n",
       "      <td>0.46</td>\n",
       "      <td>0.4</td>\n",
       "      <td>2.2</td>\n",
       "      <td>8</td>\n",
       "      <td>342</td>\n",
       "      <td>422</td>\n",
       "      <td>74</td>\n",
       "      <td>14600</td>\n",
       "    </tr>\n",
       "    <tr>\n",
       "      <th>3</th>\n",
       "      <td>84.24</td>\n",
       "      <td>5</td>\n",
       "      <td>23</td>\n",
       "      <td>0.46</td>\n",
       "      <td>0.4</td>\n",
       "      <td>2.2</td>\n",
       "      <td>8</td>\n",
       "      <td>342</td>\n",
       "      <td>422</td>\n",
       "      <td>74</td>\n",
       "      <td>27000</td>\n",
       "    </tr>\n",
       "    <tr>\n",
       "      <th>4</th>\n",
       "      <td>42.12</td>\n",
       "      <td>7</td>\n",
       "      <td>23</td>\n",
       "      <td>0.46</td>\n",
       "      <td>0.4</td>\n",
       "      <td>2.2</td>\n",
       "      <td>8</td>\n",
       "      <td>342</td>\n",
       "      <td>422</td>\n",
       "      <td>74</td>\n",
       "      <td>15300</td>\n",
       "    </tr>\n",
       "  </tbody>\n",
       "</table>\n",
       "</div>\n",
       "      <button class=\"colab-df-convert\" onclick=\"convertToInteractive('df-bf965a20-ebdd-4261-b7aa-99f03f911e4e')\"\n",
       "              title=\"Convert this dataframe to an interactive table.\"\n",
       "              style=\"display:none;\">\n",
       "        \n",
       "  <svg xmlns=\"http://www.w3.org/2000/svg\" height=\"24px\"viewBox=\"0 0 24 24\"\n",
       "       width=\"24px\">\n",
       "    <path d=\"M0 0h24v24H0V0z\" fill=\"none\"/>\n",
       "    <path d=\"M18.56 5.44l.94 2.06.94-2.06 2.06-.94-2.06-.94-.94-2.06-.94 2.06-2.06.94zm-11 1L8.5 8.5l.94-2.06 2.06-.94-2.06-.94L8.5 2.5l-.94 2.06-2.06.94zm10 10l.94 2.06.94-2.06 2.06-.94-2.06-.94-.94-2.06-.94 2.06-2.06.94z\"/><path d=\"M17.41 7.96l-1.37-1.37c-.4-.4-.92-.59-1.43-.59-.52 0-1.04.2-1.43.59L10.3 9.45l-7.72 7.72c-.78.78-.78 2.05 0 2.83L4 21.41c.39.39.9.59 1.41.59.51 0 1.02-.2 1.41-.59l7.78-7.78 2.81-2.81c.8-.78.8-2.07 0-2.86zM5.41 20L4 18.59l7.72-7.72 1.47 1.35L5.41 20z\"/>\n",
       "  </svg>\n",
       "      </button>\n",
       "      \n",
       "  <style>\n",
       "    .colab-df-container {\n",
       "      display:flex;\n",
       "      flex-wrap:wrap;\n",
       "      gap: 12px;\n",
       "    }\n",
       "\n",
       "    .colab-df-convert {\n",
       "      background-color: #E8F0FE;\n",
       "      border: none;\n",
       "      border-radius: 50%;\n",
       "      cursor: pointer;\n",
       "      display: none;\n",
       "      fill: #1967D2;\n",
       "      height: 32px;\n",
       "      padding: 0 0 0 0;\n",
       "      width: 32px;\n",
       "    }\n",
       "\n",
       "    .colab-df-convert:hover {\n",
       "      background-color: #E2EBFA;\n",
       "      box-shadow: 0px 1px 2px rgba(60, 64, 67, 0.3), 0px 1px 3px 1px rgba(60, 64, 67, 0.15);\n",
       "      fill: #174EA6;\n",
       "    }\n",
       "\n",
       "    [theme=dark] .colab-df-convert {\n",
       "      background-color: #3B4455;\n",
       "      fill: #D2E3FC;\n",
       "    }\n",
       "\n",
       "    [theme=dark] .colab-df-convert:hover {\n",
       "      background-color: #434B5C;\n",
       "      box-shadow: 0px 1px 3px 1px rgba(0, 0, 0, 0.15);\n",
       "      filter: drop-shadow(0px 1px 2px rgba(0, 0, 0, 0.3));\n",
       "      fill: #FFFFFF;\n",
       "    }\n",
       "  </style>\n",
       "\n",
       "      <script>\n",
       "        const buttonEl =\n",
       "          document.querySelector('#df-bf965a20-ebdd-4261-b7aa-99f03f911e4e button.colab-df-convert');\n",
       "        buttonEl.style.display =\n",
       "          google.colab.kernel.accessAllowed ? 'block' : 'none';\n",
       "\n",
       "        async function convertToInteractive(key) {\n",
       "          const element = document.querySelector('#df-bf965a20-ebdd-4261-b7aa-99f03f911e4e');\n",
       "          const dataTable =\n",
       "            await google.colab.kernel.invokeFunction('convertToInteractive',\n",
       "                                                     [key], {});\n",
       "          if (!dataTable) return;\n",
       "\n",
       "          const docLinkHtml = 'Like what you see? Visit the ' +\n",
       "            '<a target=\"_blank\" href=https://colab.research.google.com/notebooks/data_table.ipynb>data table notebook</a>'\n",
       "            + ' to learn more about interactive tables.';\n",
       "          element.innerHTML = '';\n",
       "          dataTable['output_type'] = 'display_data';\n",
       "          await google.colab.output.renderOutput(dataTable, element);\n",
       "          const docLink = document.createElement('div');\n",
       "          docLink.innerHTML = docLinkHtml;\n",
       "          element.appendChild(docLink);\n",
       "        }\n",
       "      </script>\n",
       "    </div>\n",
       "  </div>\n",
       "  "
      ],
      "text/plain": [
       "    전용면적  층  경과년수   지하철  대형몰   병원  최고층  총세대수  용적률  건폐율   거래금액\n",
       "0  42.12  2    23  0.46  0.4  2.2    8   342  422   74  15100\n",
       "1  50.22  4    23  0.46  0.4  2.2    8   342  422   74  17600\n",
       "2  42.12  2    23  0.46  0.4  2.2    8   342  422   74  14600\n",
       "3  84.24  5    23  0.46  0.4  2.2    8   342  422   74  27000\n",
       "4  42.12  7    23  0.46  0.4  2.2    8   342  422   74  15300"
      ]
     },
     "execution_count": 3,
     "metadata": {},
     "output_type": "execute_result"
    }
   ],
   "source": [
    "# 데이터 프레임 선언\n",
    "df = pd.read_csv(\"bundang.csv\")\n",
    "# 불필요한 컬럼 제거\n",
    "df = df.drop(columns=['시군구','단지명','건축년도'])\n",
    "# 데이터 미리보기\n",
    "df.head()"
   ]
  },
  {
   "cell_type": "markdown",
   "metadata": {},
   "source": [
    "### 1. 데이터 전처리"
   ]
  },
  {
   "cell_type": "code",
   "execution_count": null,
   "metadata": {
    "colab": {
     "base_uri": "https://localhost:8080/"
    },
    "id": "ti1k6F9-Qwwy",
    "outputId": "2da09c89-7baa-4919-a202-1b93d27b78d8"
   },
   "outputs": [
    {
     "data": {
      "text/plain": [
       "전용면적    0\n",
       "층       0\n",
       "경과년수    0\n",
       "지하철     0\n",
       "대형몰     0\n",
       "병원      0\n",
       "최고층     0\n",
       "총세대수    0\n",
       "용적률     0\n",
       "건폐율     0\n",
       "거래금액    0\n",
       "dtype: int64"
      ]
     },
     "execution_count": 4,
     "metadata": {},
     "output_type": "execute_result"
    }
   ],
   "source": [
    "# 컬럼 별 결측치 확인\n",
    "df.isna().sum()"
   ]
  },
  {
   "cell_type": "code",
   "execution_count": null,
   "metadata": {
    "colab": {
     "base_uri": "https://localhost:8080/",
     "height": 742
    },
    "id": "gekeGukSQwzK",
    "outputId": "aaddd846-d449-4db5-93b3-e16975cd2131"
   },
   "outputs": [
    {
     "data": {
      "text/plain": [
       "(array([  2.,   5.,  21.,  69., 162., 146., 148., 144., 122.,  97., 149.,\n",
       "         75.,  59.,  59.,  16.,  13.,  14.,  23.,  22.,  34.,  15.,  22.,\n",
       "         24.,  13.,   8.,  17.,  13.,  15.,   3.,  11.,  15.,  13.,   7.,\n",
       "         12.,  12.,   5.,   7.,   4.,  12.,   3.,   3.,   7.,   4.,  11.,\n",
       "          4.,   5.,   6.,   1.,   1.,   2.,   3.,   3.,   1.,   2.,   5.,\n",
       "          2.,   1.,   1.,   0.,   0.,   2.,   0.,   0.,   0.,   1.,   3.,\n",
       "          0.,   3.,   0.,   1.,   3.,   1.,   0.,   0.,   1.,   0.,   0.,\n",
       "          0.,   0.,   0.,   0.,   0.,   0.,   0.,   0.,   0.,   0.,   0.,\n",
       "          0.,   1.,   0.,   0.,   0.,   0.,   0.,   0.,   1.,   0.,   0.,\n",
       "          1.]),\n",
       " array([  8000.,   9870.,  11740.,  13610.,  15480.,  17350.,  19220.,\n",
       "         21090.,  22960.,  24830.,  26700.,  28570.,  30440.,  32310.,\n",
       "         34180.,  36050.,  37920.,  39790.,  41660.,  43530.,  45400.,\n",
       "         47270.,  49140.,  51010.,  52880.,  54750.,  56620.,  58490.,\n",
       "         60360.,  62230.,  64100.,  65970.,  67840.,  69710.,  71580.,\n",
       "         73450.,  75320.,  77190.,  79060.,  80930.,  82800.,  84670.,\n",
       "         86540.,  88410.,  90280.,  92150.,  94020.,  95890.,  97760.,\n",
       "         99630., 101500., 103370., 105240., 107110., 108980., 110850.,\n",
       "        112720., 114590., 116460., 118330., 120200., 122070., 123940.,\n",
       "        125810., 127680., 129550., 131420., 133290., 135160., 137030.,\n",
       "        138900., 140770., 142640., 144510., 146380., 148250., 150120.,\n",
       "        151990., 153860., 155730., 157600., 159470., 161340., 163210.,\n",
       "        165080., 166950., 168820., 170690., 172560., 174430., 176300.,\n",
       "        178170., 180040., 181910., 183780., 185650., 187520., 189390.,\n",
       "        191260., 193130., 195000.]),\n",
       " <a list of 100 Patch objects>)"
      ]
     },
     "execution_count": 5,
     "metadata": {},
     "output_type": "execute_result"
    },
    {
     "data": {
      "image/png": "[encoded data removed]",
      "text/plain": [
       "<Figure size 432x288 with 1 Axes>"
      ]
     },
     "metadata": {
      "needs_background": "light"
     },
     "output_type": "display_data"
    }
   ],
   "source": [
    "# 거래금액에 대한 분포 시각화\n",
    "# bins=100은 100개의 구간으로 나눔을 의미\n",
    "plt.hist(df['거래금액'],bins=100)"
   ]
  },
  {
   "cell_type": "markdown",
   "metadata": {},
   "source": [
    "- 시각화된 결과에서 왼쪽으로 치우쳐진 분포를 보임\n",
    "- 이에 따라, 이후 로그 변환을 통해 정규화 진행\n",
    "    - Tree 계열에서는 대체로 정규화를 하지 않아도, 우수한 성능을 보임"
   ]
  },
  {
   "cell_type": "code",
   "execution_count": null,
   "metadata": {
    "colab": {
     "base_uri": "https://localhost:8080/",
     "height": 816
    },
    "id": "feJ3CrxPQw15",
    "outputId": "ac22c5ac-65f1-42d9-85dd-bdc1e5f44bc3"
   },
   "outputs": [
    {
     "data": {
      "text/plain": [
       "(array([ 1.,  0.,  0.,  0.,  0.,  0.,  1.,  1.,  0.,  4.,  0.,  0.,  8.,\n",
       "         3.,  2.,  2., 10.,  8., 13., 29., 37., 41., 59., 36., 30., 52.,\n",
       "        44., 58., 55., 31., 67., 85., 20., 56., 47., 47., 49., 40., 57.,\n",
       "        76., 49., 30., 30., 28., 32., 24.,  9., 12., 10.,  5., 18., 12.,\n",
       "        17., 16., 27., 11., 18., 22., 15.,  6., 16., 10., 15.,  7.,  9.,\n",
       "        19., 13., 18.,  8.,  9.,  8.,  5., 14.,  6.,  7., 14.,  5.,  8.,\n",
       "         2.,  4.,  4.,  4.,  7.,  1.,  1.,  1.,  0.,  4.,  3.,  4.,  1.,\n",
       "         1.,  0.,  0.,  0.,  0.,  1.,  0.,  0.,  2.]),\n",
       " array([ 8.98732181,  9.01925619,  9.05119058,  9.08312496,  9.11505934,\n",
       "         9.14699372,  9.1789281 ,  9.21086248,  9.24279687,  9.27473125,\n",
       "         9.30666563,  9.33860001,  9.37053439,  9.40246877,  9.43440315,\n",
       "         9.46633754,  9.49827192,  9.5302063 ,  9.56214068,  9.59407506,\n",
       "         9.62600944,  9.65794382,  9.68987821,  9.72181259,  9.75374697,\n",
       "         9.78568135,  9.81761573,  9.84955011,  9.8814845 ,  9.91341888,\n",
       "         9.94535326,  9.97728764, 10.00922202, 10.0411564 , 10.07309078,\n",
       "        10.10502517, 10.13695955, 10.16889393, 10.20082831, 10.23276269,\n",
       "        10.26469707, 10.29663146, 10.32856584, 10.36050022, 10.3924346 ,\n",
       "        10.42436898, 10.45630336, 10.48823774, 10.52017213, 10.55210651,\n",
       "        10.58404089, 10.61597527, 10.64790965, 10.67984403, 10.71177842,\n",
       "        10.7437128 , 10.77564718, 10.80758156, 10.83951594, 10.87145032,\n",
       "        10.9033847 , 10.93531909, 10.96725347, 10.99918785, 11.03112223,\n",
       "        11.06305661, 11.09499099, 11.12692538, 11.15885976, 11.19079414,\n",
       "        11.22272852, 11.2546629 , 11.28659728, 11.31853166, 11.35046605,\n",
       "        11.38240043, 11.41433481, 11.44626919, 11.47820357, 11.51013795,\n",
       "        11.54207234, 11.57400672, 11.6059411 , 11.63787548, 11.66980986,\n",
       "        11.70174424, 11.73367862, 11.76561301, 11.79754739, 11.82948177,\n",
       "        11.86141615, 11.89335053, 11.92528491, 11.9572193 , 11.98915368,\n",
       "        12.02108806, 12.05302244, 12.08495682, 12.1168912 , 12.14882558,\n",
       "        12.18075997]),\n",
       " <a list of 100 Patch objects>)"
      ]
     },
     "execution_count": 6,
     "metadata": {},
     "output_type": "execute_result"
    },
    {
     "data": {
      "image/png": "[encoded data removed]",
      "text/plain": [
       "<Figure size 432x288 with 1 Axes>"
      ]
     },
     "metadata": {
      "needs_background": "light"
     },
     "output_type": "display_data"
    }
   ],
   "source": [
    "# 로그 변환를 통해 정규화 진행\n",
    "df['거래금액_log'] = np.log(df['거래금액']+1)\n",
    "# 정규화 이전 데이터 drop\n",
    "df = df.drop(columns=['거래금액'])\n",
    "# 정규화한 이후의 거래금액 분포 시각화\n",
    "plt.hist(df['거래금액_log'],bins=100)"
   ]
  },
  {
   "cell_type": "markdown",
   "metadata": {},
   "source": [
    "### 2. 데이터셋 분리 및 모델 선언(RandomForestRegressor)"
   ]
  },
  {
   "cell_type": "markdown",
   "metadata": {},
   "source": [
    "#### 랜덤 포레스트(Random Forest)\n",
    "\n",
    "랜덤 포레스트는 앙상블 학습 방법의 하나로, 여러 개의 결정 트리(Decision Trees)를 생성하고 그 예측들을 결합함으로써 작동합니다. 이 알고리즘은 강력한 모델을 만들기 위해 여러 약한 모델들을 결합하는 것을 목표로 하는 '배깅(Bagging)' 방법의 한 예입니다.\n",
    "\n",
    "<div style=\"text-align: center;\">\n",
    "    <img src=\"../img/RF.png\" width=\"500\"/><br>\n",
    "    (이미지 출처: <a href=\"https://neocarus.tistory.com/entry/Random-forest-%EC%9E%91%EB%8F%99-%EC%9B%90%EB%A6%AC\">출처 링크</a>)\n",
    "</div>\n",
    "\n",
    "#### 작동 원리\n",
    "\n",
    "1. **부트스트랩 샘플링(Bootstrap Sampling)**: 원래 데이터셋에서 무작위로 샘플을 선택하여(복원 추출 방식으로) 새로운 데이터셋을 만듭니다. 이렇게 만들어진 새로운 데이터셋으로 결정 트리를 학습합니다. \n",
    "\n",
    "2. **특성 무작위 선택**: 각 노드에서 전체 특성(feature)이 아닌 무작위로 선택된 일부 특성만 고려하여 최적의 분할을 찾습니다. 이는 모델의 다양성을 더욱 증가시키고, 과적합을 줄이는 데 도움이 됩니다.\n",
    "\n",
    "3. **예측**: 회귀 문제의 경우, 각 트리의 예측을 평균하여 최종 예측을 얻습니다. 분류 문제의 경우, 각 트리의 예측을 '투표'로 취급하고 가장 많은 표를 얻은 클래스를 최종 예측으로 합니다.\n",
    "\n",
    "#### 장점\n",
    "\n",
    "- 강력하고 유연한 모델: 랜덤 포레스트는 다양한 종류의 데이터셋에 대해 잘 작동하며, 회귀와 분류 문제 모두에 사용할 수 있습니다.\n",
    "\n",
    "- 특성 중요도 계산: 랜덤 포레스트는 각 특성의 중요도를 측정하며, 이를 통해 모델의 해석이나 특성 선택에 도움이 됩니다.\n",
    "\n",
    "- 과적합 방지: 부트스트랩 샘플링과 특성 무작위 선택으로 인해 개별 트리의 과적합이 평균화되므로, 랜덤 포레스트 전체는 과적합에 덜 민감합니다.\n",
    "\n",
    "#### 단점\n",
    "\n",
    "- 예측 속도: 랜덤 포레스트는 많은 트리를 포함하므로, 예측 시간이 다른 모델들(예: 선형 모델)보다 느릴 수 있습니다.\n",
    "\n",
    "- 해석이 어렵다: 랜덤 포레스트의 예측은 수 많은 트리에 기반하므로, 개별 트리보다는 해석이 어렵습니다. 다만, 이는 다른 복잡한 머신러닝 모델들도 마찬가지의 문제를 가지고 있습니다."
   ]
  },
  {
   "cell_type": "code",
   "execution_count": null,
   "metadata": {
    "colab": {
     "base_uri": "https://localhost:8080/"
    },
    "id": "eB8-PjXQQw4q",
    "outputId": "23c36032-fc88-440b-fa75-94b7cc63049a"
   },
   "outputs": [
    {
     "data": {
      "text/plain": [
       "RandomForestRegressor(n_estimators=2000, random_state=42)"
      ]
     },
     "execution_count": 7,
     "metadata": {},
     "output_type": "execute_result"
    }
   ],
   "source": [
    "# 훈련셋과 테스트셋 분리를 위한 라이브러리\n",
    "from sklearn.model_selection import train_test_split\n",
    "# RandomForest 모델을 선언하기 위한 라이브러리\n",
    "from sklearn.ensemble import RandomForestRegressor\n",
    "\n",
    "# 로그 변환하여 정규화 시킨 Y값\n",
    "Y = df['거래금액_log'].values\n",
    "# float형태로 변환\n",
    "Y = Y.astype('float32')\n",
    "# 종속변수인 Y값을 제외하고, 독립변수들을 'X'라는 변수에 담음\n",
    "X = df.drop(columns=['거래금액_log'])\n",
    "# float형태로 변환\n",
    "X = X.astype('float32')\n",
    "\n",
    "# train_test_split 함수를 사용하여 데이터를 학습 데이터와 테스트 데이터로 분리합니다.\n",
    "# test_size=0.2는 전체 데이터의 20%를 테스트 데이터로 사용하겠다는 의미입니다.\n",
    "# random_state=42는 재현 가능성을 위해 설정한 값입니다. 이 값이 같다면 코드를 여러번 실행해도 항상 같은 결과를 얻을 수 있습니다.\n",
    "X_train, X_test, Y_train, Y_test = train_test_split(X,Y,test_size=0.2, random_state=42)\n",
    "\n",
    "# RandomForestRegressor 모델을 생성합니다. \n",
    "# n_estimators=2000은 랜덤 포레스트 안에 생성될 결정 트리의 개수를 2000개로 설정합니다.\n",
    "# random_state=42는 모델의 결과를 재현하기 위한 값입니다.\n",
    "RF_model = RandomForestRegressor(n_estimators=2000, random_state=42)\n",
    "\n",
    "# RandomForestRegressor 모델을 학습 데이터에 대해 학습시킵니다.\n",
    "RF_model.fit(X_train,Y_train)"
   ]
  },
  {
   "cell_type": "markdown",
   "metadata": {},
   "source": [
    "### 3. Random Forest 모델 예측 및 성능 평가"
   ]
  },
  {
   "cell_type": "markdown",
   "metadata": {},
   "source": [
    "- MAE(Mean Absolute Error)\n",
    "    - 평균 절대 오차(MAE)는 실제 값과 예측 값의 절대적인 차이를 평균한 것입니다. MAE는 모든 개별 오차의 절대 값을 합산한 후, 그 합을 샘플의 개수로 나누어 계산\n",
    "    $$\\mathrm{MAE}=\\frac{1}{n} \\sum_{i=1}^n\\left|y_i-\\hat{y}_i\\right|$$\n",
    "    \n",
    "- MAPE(Mean Absolute Percetage Error)\n",
    "    - 평균 절대 백분율 오차(MAPE)는 실제 값 대비 예측 값의 오차를 백분율로 나타낸 것의 평균\n",
    "    $$\\mathrm{MAPE}=\\frac{100}{n} \\sum_{i=1}^n\\left|\\frac{y_i-\\hat{y}_i}{y_i}\\right|$$\n",
    "    \n",
    "- 두 지표는 모두 값이 작을수록 모델의 성능이 더 좋다는 것을 의미합니다."
   ]
  },
  {
   "cell_type": "code",
   "execution_count": null,
   "metadata": {
    "colab": {
     "base_uri": "https://localhost:8080/"
    },
    "id": "hg0XB_PpQw7z",
    "outputId": "958db1cf-2779-4d0f-a5a4-cd8f1897dbb4"
   },
   "outputs": [
    {
     "name": "stdout",
     "output_type": "stream",
     "text": [
      "Mean Absolute Error for Train Set is : 0.025\n",
      "Mean Absolute Percent Error for Train Set is : 0.242 %\n",
      "Mean Absolute Error for Test Set is : 0.057\n",
      "Mean Absolute Percent Error for Test Set is : 0.544 %\n"
     ]
    }
   ],
   "source": [
    "# 학습 데이터에 대한 예측을 수행합니다.\n",
    "Train_Prediction = (RF_model.predict(X_train))\n",
    "\n",
    "# 테스트 데이터에 대한 예측을 수행합니다.\n",
    "Test_Prediction = (RF_model.predict(X_test))\n",
    "\n",
    "# 학습 데이터에 대한 Mean Absolute Error(MAE)를 계산합니다.\n",
    "# MAE는 실제 값과 예측 값의 차이를 절댓값으로 변환한 후 평균을 낸 것입니다.\n",
    "RF_Train_MAE = round(np.mean(np.abs(Y_train-Train_Prediction)),3)\n",
    "\n",
    "# 학습 데이터에 대한 Mean Absolute Percentage Error(MAPE)를 계산합니다.\n",
    "# MAPE는 실제 값과 예측 값의 차이를 절댓값으로 변환한 후, 이를 실제 값으로 나눠서 퍼센트로 표현한 값의 평균입니다.\n",
    "RF_Train_MAPE = round((np.mean(np.abs((Y_train-Train_Prediction)/(Y_train)))*100),3)\n",
    "\n",
    "# 테스트 데이터에 대한 Mean Absolute Error(MAE)를 계산합니다.\n",
    "RF_Test_MAE = round(np.mean(np.abs(Y_test-Test_Prediction)),3)\n",
    "\n",
    "# 테스트 데이터에 대한 Mean Absolute Percentage Error(MAPE)를 계산합니다.\n",
    "RF_Test_MAPE = round((np.mean(np.abs((Y_test-Test_Prediction)/(Y_test)))*100),3)\n",
    "\n",
    "# 학습 데이터에 대한 MAE를 출력합니다.\n",
    "print(\"Mean Absolute Error for Train Set is : {:.3f}\".format(RF_Train_MAE))\n",
    "\n",
    "# 학습 데이터에 대한 MAPE를 출력합니다.\n",
    "print(\"Mean Absolute Percent Error for Train Set is : {:.3f} %\".format(RF_Train_MAPE))\n",
    "\n",
    "# 테스트 데이터에 대한 MAE를 출력합니다.\n",
    "print(\"Mean Absolute Error for Test Set is : {:.3f}\".format(RF_Test_MAE))\n",
    "\n",
    "# 테스트 데이터에 대한 MAPE를 출력합니다.\n",
    "print(\"Mean Absolute Percent Error for Test Set is : {:.3f} %\".format(RF_Test_MAPE))"
   ]
  },
  {
   "cell_type": "markdown",
   "metadata": {},
   "source": [
    "### 4. 실제 값(y)와 예측 값(ŷ) 비교"
   ]
  },
  {
   "cell_type": "code",
   "execution_count": null,
   "metadata": {
    "colab": {
     "base_uri": "https://localhost:8080/",
     "height": 460
    },
    "id": "rxmAwJRhQxAy",
    "outputId": "8eb5b25f-77bb-4a99-9a44-f4501110506f"
   },
   "outputs": [
    {
     "name": "stdout",
     "output_type": "stream",
     "text": [
      "[ 44500  57300 158300 188800 353700  81700 211400  65500  58200  41900]\n",
      "[ 45700  59800 154900 182100 312600  59800 201200  59800  58400  42400]\n"
     ]
    },
    {
     "data": {
      "text/html": [
       "\n",
       "  <div id=\"df-80c75919-e951-41f0-99cc-694757b102b2\">\n",
       "    <div class=\"colab-df-container\">\n",
       "      <div>\n",
       "<style scoped>\n",
       "    .dataframe tbody tr th:only-of-type {\n",
       "        vertical-align: middle;\n",
       "    }\n",
       "\n",
       "    .dataframe tbody tr th {\n",
       "        vertical-align: top;\n",
       "    }\n",
       "\n",
       "    .dataframe thead th {\n",
       "        text-align: right;\n",
       "    }\n",
       "</style>\n",
       "<table border=\"1\" class=\"dataframe\">\n",
       "  <thead>\n",
       "    <tr style=\"text-align: right;\">\n",
       "      <th></th>\n",
       "      <th>Original</th>\n",
       "      <th>Prediction</th>\n",
       "    </tr>\n",
       "  </thead>\n",
       "  <tbody>\n",
       "    <tr>\n",
       "      <th>0</th>\n",
       "      <td>45700</td>\n",
       "      <td>44500</td>\n",
       "    </tr>\n",
       "    <tr>\n",
       "      <th>1</th>\n",
       "      <td>59800</td>\n",
       "      <td>57300</td>\n",
       "    </tr>\n",
       "    <tr>\n",
       "      <th>2</th>\n",
       "      <td>154900</td>\n",
       "      <td>158300</td>\n",
       "    </tr>\n",
       "    <tr>\n",
       "      <th>3</th>\n",
       "      <td>182100</td>\n",
       "      <td>188800</td>\n",
       "    </tr>\n",
       "    <tr>\n",
       "      <th>4</th>\n",
       "      <td>312600</td>\n",
       "      <td>353700</td>\n",
       "    </tr>\n",
       "    <tr>\n",
       "      <th>...</th>\n",
       "      <td>...</td>\n",
       "      <td>...</td>\n",
       "    </tr>\n",
       "    <tr>\n",
       "      <th>334</th>\n",
       "      <td>69300</td>\n",
       "      <td>75800</td>\n",
       "    </tr>\n",
       "    <tr>\n",
       "      <th>335</th>\n",
       "      <td>187300</td>\n",
       "      <td>225600</td>\n",
       "    </tr>\n",
       "    <tr>\n",
       "      <th>336</th>\n",
       "      <td>44900</td>\n",
       "      <td>43900</td>\n",
       "    </tr>\n",
       "    <tr>\n",
       "      <th>337</th>\n",
       "      <td>53000</td>\n",
       "      <td>55000</td>\n",
       "    </tr>\n",
       "    <tr>\n",
       "      <th>338</th>\n",
       "      <td>293600</td>\n",
       "      <td>257700</td>\n",
       "    </tr>\n",
       "  </tbody>\n",
       "</table>\n",
       "<p>339 rows × 2 columns</p>\n",
       "</div>\n",
       "      <button class=\"colab-df-convert\" onclick=\"convertToInteractive('df-80c75919-e951-41f0-99cc-694757b102b2')\"\n",
       "              title=\"Convert this dataframe to an interactive table.\"\n",
       "              style=\"display:none;\">\n",
       "        \n",
       "  <svg xmlns=\"http://www.w3.org/2000/svg\" height=\"24px\"viewBox=\"0 0 24 24\"\n",
       "       width=\"24px\">\n",
       "    <path d=\"M0 0h24v24H0V0z\" fill=\"none\"/>\n",
       "    <path d=\"M18.56 5.44l.94 2.06.94-2.06 2.06-.94-2.06-.94-.94-2.06-.94 2.06-2.06.94zm-11 1L8.5 8.5l.94-2.06 2.06-.94-2.06-.94L8.5 2.5l-.94 2.06-2.06.94zm10 10l.94 2.06.94-2.06 2.06-.94-2.06-.94-.94-2.06-.94 2.06-2.06.94z\"/><path d=\"M17.41 7.96l-1.37-1.37c-.4-.4-.92-.59-1.43-.59-.52 0-1.04.2-1.43.59L10.3 9.45l-7.72 7.72c-.78.78-.78 2.05 0 2.83L4 21.41c.39.39.9.59 1.41.59.51 0 1.02-.2 1.41-.59l7.78-7.78 2.81-2.81c.8-.78.8-2.07 0-2.86zM5.41 20L4 18.59l7.72-7.72 1.47 1.35L5.41 20z\"/>\n",
       "  </svg>\n",
       "      </button>\n",
       "      \n",
       "  <style>\n",
       "    .colab-df-container {\n",
       "      display:flex;\n",
       "      flex-wrap:wrap;\n",
       "      gap: 12px;\n",
       "    }\n",
       "\n",
       "    .colab-df-convert {\n",
       "      background-color: #E8F0FE;\n",
       "      border: none;\n",
       "      border-radius: 50%;\n",
       "      cursor: pointer;\n",
       "      display: none;\n",
       "      fill: #1967D2;\n",
       "      height: 32px;\n",
       "      padding: 0 0 0 0;\n",
       "      width: 32px;\n",
       "    }\n",
       "\n",
       "    .colab-df-convert:hover {\n",
       "      background-color: #E2EBFA;\n",
       "      box-shadow: 0px 1px 2px rgba(60, 64, 67, 0.3), 0px 1px 3px 1px rgba(60, 64, 67, 0.15);\n",
       "      fill: #174EA6;\n",
       "    }\n",
       "\n",
       "    [theme=dark] .colab-df-convert {\n",
       "      background-color: #3B4455;\n",
       "      fill: #D2E3FC;\n",
       "    }\n",
       "\n",
       "    [theme=dark] .colab-df-convert:hover {\n",
       "      background-color: #434B5C;\n",
       "      box-shadow: 0px 1px 3px 1px rgba(0, 0, 0, 0.15);\n",
       "      filter: drop-shadow(0px 1px 2px rgba(0, 0, 0, 0.3));\n",
       "      fill: #FFFFFF;\n",
       "    }\n",
       "  </style>\n",
       "\n",
       "      <script>\n",
       "        const buttonEl =\n",
       "          document.querySelector('#df-80c75919-e951-41f0-99cc-694757b102b2 button.colab-df-convert');\n",
       "        buttonEl.style.display =\n",
       "          google.colab.kernel.accessAllowed ? 'block' : 'none';\n",
       "\n",
       "        async function convertToInteractive(key) {\n",
       "          const element = document.querySelector('#df-80c75919-e951-41f0-99cc-694757b102b2');\n",
       "          const dataTable =\n",
       "            await google.colab.kernel.invokeFunction('convertToInteractive',\n",
       "                                                     [key], {});\n",
       "          if (!dataTable) return;\n",
       "\n",
       "          const docLinkHtml = 'Like what you see? Visit the ' +\n",
       "            '<a target=\"_blank\" href=https://colab.research.google.com/notebooks/data_table.ipynb>data table notebook</a>'\n",
       "            + ' to learn more about interactive tables.';\n",
       "          element.innerHTML = '';\n",
       "          dataTable['output_type'] = 'display_data';\n",
       "          await google.colab.output.renderOutput(dataTable, element);\n",
       "          const docLink = document.createElement('div');\n",
       "          docLink.innerHTML = docLinkHtml;\n",
       "          element.appendChild(docLink);\n",
       "        }\n",
       "      </script>\n",
       "    </div>\n",
       "  </div>\n",
       "  "
      ],
      "text/plain": [
       "     Original  Prediction\n",
       "0       45700       44500\n",
       "1       59800       57300\n",
       "2      154900      158300\n",
       "3      182100      188800\n",
       "4      312600      353700\n",
       "..        ...         ...\n",
       "334     69300       75800\n",
       "335    187300      225600\n",
       "336     44900       43900\n",
       "337     53000       55000\n",
       "338    293600      257700\n",
       "\n",
       "[339 rows x 2 columns]"
      ]
     },
     "execution_count": 9,
     "metadata": {},
     "output_type": "execute_result"
    }
   ],
   "source": [
    "# 테스트 데이터에 대한 예측 값을 원래의 단위로 변환합니다.\n",
    "# np.exp를 사용하여 로그 변환을 취소하고, np.round를 사용하여 반올림합니다. -2는 소수점 두 번째 자리에서 반올림하겠다는 의미입니다.\n",
    "# 마지막으로 astype(int)를 사용하여 정수로 변환합니다.\n",
    "Original_Predictions = (np.round(np.exp(Test_Prediction+1),-2)).astype(int)\n",
    "\n",
    "# 첫 10개의 변환된 예측 값을 출력합니다.\n",
    "print(Original_Predictions[:10])\n",
    "\n",
    "# 실제 테스트 데이터의 값을 원래의 단위로 변환합니다.\n",
    "# 변환 과정은 예측 값과 동일합니다.\n",
    "Original_Values = (np.round(np.exp(Y_test+1),-2)).astype(int)\n",
    "\n",
    "# 첫 10개의 변환된 실제 값을 출력합니다.\n",
    "print(Original_Values[:10])\n",
    "\n",
    "# 변환된 실제 값과 예측 값을 딕셔너리로 만들어 줍니다.\n",
    "data = {'Original':  Original_Values,'Prediction': Original_Predictions}\n",
    "\n",
    "# 위에서 만든 딕셔너리를 사용하여 데이터프레임을 생성합니다.\n",
    "final = pd.DataFrame(data)\n",
    "\n",
    "# 최종 데이터프레임을 출력합니다.\n",
    "final"
   ]
  },
  {
   "cell_type": "markdown",
   "metadata": {},
   "source": [
    "### 5. 변수 중요도 시각화"
   ]
  },
  {
   "cell_type": "markdown",
   "metadata": {},
   "source": [
    "#### 계산 방법\n",
    "\n",
    "특성 중요도는 각 결정 트리에서 특성을 기반으로 한 분할이 불순도(impurity)를 얼마나 감소시키는지를 기반으로 합니다. 각 특성의 중요도는 먼저 트리 내에서 계산되고, 그런 다음 각 트리의 예측에 대한 비중으로 평균화됩니다. 이렇게 하면 각 특성이 전체 랜덤 포레스트 모델에서 얼마나 중요한지를 알 수 있습니다.\n",
    "\n",
    "$$\\operatorname{Gain}(S, A)=\\underbrace{\\operatorname{Entropy}(S)}_{\\text {original entropy of } \\mathrm{S}}-\\underbrace{\\sum_{v \\in \\text { values }(A)} \\frac{\\left|S_v\\right|}{|S|} \\cdot \\operatorname{Entropy}\\left(S_v\\right)}_{\\text {relative entropy of } \\mathrm{S}}$$"
   ]
  },
  {
   "cell_type": "markdown",
   "metadata": {},
   "source": [
    "위의 수식은 의사 결정 트리에서 특성 선택을 위해 사용하는 '정보 획득(Information Gain)'을 계산하는 방법을 설명하고 있습니다. 정보 획득은 어떤 특성을 사용하여 데이터를 분할했을 때, 얼마나 많은 '불확실성' 또는 '엔트로피(Entropy)'가 감소하는지를 측정합니다.\n",
    "\n",
    "<br>\n",
    "<div style=\"text-align: center;\">\n",
    "    <img src=\"../img/IG.png\" width=\"500\"/><br>\n",
    "    (이미지 출처: <a href=\"https://sebastianraschka.com/faq/docs/decisiontree-error-vs-entropy.html\">출처 링크</a>)\n",
    "</div>\n",
    "<br>\n",
    "여기서 S는 현재의 데이터 집합을, A는 분할을 위해 고려 중인 특성을 나타냅니다.\n",
    "\n",
    "- $$\\operatorname{Entropy}(S_{v})$$\n",
    "    원래 데이터 집합 \\(S\\)의 엔트로피를 나타냅니다. 이는 데이터 집합의 불확실성을 측정하는 지표입니다. 엔트로피가 높을수록 데이터 집합에는 많은 정보가 포함되어 있고, 이는 예측을 어렵게 만듭니다.\n",
    "\n",
    "- $$\\sum_{v \\in \\text{ values }(A)} \\frac{\\left|S_v\\right|}{|S|} \\cdot \\operatorname{Entropy}\\left(S_v\\right)\\$$\n",
    "\n",
    "    이 부분은 특성 \\(A\\)의 각 값에 대해 데이터 집합을 분할했을 때의 '평균 엔트로피'를 나타냅니다.\n",
    "- $$\\left|S_v\\right|$$\n",
    "    특성 A의 값이 v인 데이터의 수\n",
    "- $$|S|$$\n",
    "    전체 데이터 집합의 크기를 나타냅니다. 따라서, 이 합은 각 부분 집합의 크기에 따른 가중치를 고려하여, 분할 후의 평균 엔트로피를 계산합니다.\n",
    "\n",
    "따라서 전체 수식은 원래 데이터 집합의 엔트로피에서 분할 후의 평균 엔트로피를 뺀 값, 즉 특성 \\(A\\)를 사용하여 데이터를 분할했을 때 얼마나 많은 정보를 획득하는지를 나타냅니다. 정보 획득이 클수록 해당 특성은 데이터를 잘 분류하는 데 유용하다고 볼 수 있습니다."
   ]
  },
  {
   "cell_type": "code",
   "execution_count": null,
   "metadata": {
    "colab": {
     "base_uri": "https://localhost:8080/",
     "height": 297
    },
    "id": "0q6OKrUwQxDa",
    "outputId": "49a7f29a-8e53-4322-feed-a8e0e6e765bf"
   },
   "outputs": [
    {
     "data": {
      "text/plain": [
       "Text(0.5, 0, 'Random Forest Feature Importance')"
      ]
     },
     "execution_count": 10,
     "metadata": {},
     "output_type": "execute_result"
    },
    {
     "data": {
      "image/png": "[encoded data removed]",
      "text/plain": [
       "<Figure size 432x288 with 1 Axes>"
      ]
     },
     "metadata": {
      "needs_background": "light"
     },
     "output_type": "display_data"
    }
   ],
   "source": [
    "# 랜덤 포레스트 모델의 특성 중요도를 기준으로 정렬합니다.\n",
    "# argsort() 함수는 작은 값부터 큰 값 순서로 데이터의 인덱스를 반환합니다.\n",
    "sorted_idx = RF_model.feature_importances_.argsort()\n",
    "\n",
    "# 특성 중요도를 수평 막대 그래프로 그립니다.\n",
    "# X.columns[sorted_idx]는 중요도 순서대로 정렬된 특성의 이름을 가져옵니다.\n",
    "# RF_model.feature_importances_[sorted_idx]는 중요도 순서대로 정렬된 특성 중요도를 가져옵니다.\n",
    "plt.barh(X.columns[sorted_idx], RF_model.feature_importances_[sorted_idx])\n",
    "\n",
    "# x축 레이블을 설정합니다.\n",
    "plt.xlabel(\"Random Forest Feature Importance\")"
   ]
  },
  {
   "cell_type": "markdown",
   "metadata": {
    "id": "UnuZmzfLSApu"
   },
   "source": [
    "### 6. 데이터셋 분리 및 모델 선언(XGBoost)"
   ]
  },
  {
   "cell_type": "markdown",
   "metadata": {},
   "source": [
    "## XGBoost(eXtreme Gradient Boosting)\n",
    "\n",
    "Gradient Boosting 알고리즘을 기반으로 하는 머신러닝 라이브러리입니다. Gradient Boosting 알고리즘은 여러 개의 약한 학습기(weak learner)를 결합하여 강한 학습기(strong learner)를 만드는 앙상블 기법입니다. 이 때 약한 학습기로 일반적으로 의사 결정 나무(decision tree)가 사용됩니다. XGBoost는 기본 Gradient Boosting 알고리즘에 여러 가지 최적화 기법과 정규화(regularization) 등을 추가하여 성능을 향상시킨 알고리즘입니다.\n",
    "\n",
    "<br>\n",
    "<div style=\"text-align: center;\">\n",
    "    <img src=\"../img/xgboost.png\" width=\"500\"/><br>\n",
    "    (이미지 출처: <a href=\"https://docs.aws.amazon.com/ko_kr/sagemaker/latest/dg/xgboost-HowItWorks.html\">출처 링크</a>)\n",
    "</div>\n",
    "<br>\n",
    "\n",
    "XGBoost의 주요 특징은 다음과 같습니다:\n",
    "\n",
    "1. **정규화(Regularization)**: XGBoost는 기본적인 Gradient Boosting 알고리즘에 L1(Lasso Regression) 및 L2(Ridge Regression) 정규화를 추가하였습니다. 이는 모델의 과적합(overfitting)을 방지하며, 일반화 성능을 향상시킵니다.\n",
    "\n",
    "2. **병렬 처리(Parallel Processing)**: XGBoost는 다중 코어를 활용한 병렬 처리를 지원하여 학습 속도를 빠르게 할 수 있습니다.\n",
    "\n",
    "3. **핸들링 능력(Handling Missing Values)**: XGBoost는 결측치 처리 기능을 내장하고 있어, 별도의 결측치 처리 과정 없이도 모델을 학습시킬 수 있습니다.\n",
    "\n",
    "4. **트리 가지치기(Tree Pruning)**: XGBoost는 중요하지 않은 피처를 가지치기(pruning)하여 모델의 복잡도를 줄이고, 과적합을 방지합니다.\n",
    "\n",
    "5. **교차 검증(Cross-Validation)**: XGBoost에는 내장된 교차 검증 기능이 있어, 매 반복마다 학습 데이터를 사용하여 교차 검증을 수행할 수 있습니다."
   ]
  },
  {
   "cell_type": "code",
   "execution_count": null,
   "metadata": {
    "colab": {
     "base_uri": "https://localhost:8080/"
    },
    "id": "FJ7-4rclQxGC",
    "outputId": "0a7f49e7-c5e9-46be-953d-9baed630a958"
   },
   "outputs": [
    {
     "name": "stdout",
     "output_type": "stream",
     "text": [
      "[04:08:27] WARNING: /workspace/src/objective/regression_obj.cu:152: reg:linear is now deprecated in favor of reg:squarederror.\n"
     ]
    },
    {
     "data": {
      "text/plain": [
       "XGBRegressor(n_estimators=2000, random_state=41)"
      ]
     },
     "execution_count": 11,
     "metadata": {},
     "output_type": "execute_result"
    }
   ],
   "source": [
    "# xgboost 라이브러리를 가져옵니다.\n",
    "import xgboost\n",
    "\n",
    "# train_test_split 함수를 사용하여 데이터를 학습 데이터와 테스트 데이터로 분리합니다.\n",
    "# test_size=0.2는 전체 데이터의 20%를 테스트 데이터로 사용하겠다는 의미입니다.\n",
    "# random_state=41은 재현 가능성을 위해 설정한 값입니다. 이 값이 같다면 코드를 여러번 실행해도 항상 같은 결과를 얻을 수 있습니다.\n",
    "X_train, X_test, Y_train, Y_test = train_test_split(X,Y,test_size=0.2, random_state=41)\n",
    "\n",
    "# XGBRegressor 모델을 생성합니다. \n",
    "# n_estimators=2000은 부스팅 단계의 수를 의미하며, 이는 결정 트리의 개수에 해당합니다.\n",
    "# random_state=41은 모델의 결과를 재현하기 위한 값입니다.\n",
    "XGB_model = xgboost.XGBRegressor(n_estimators=2000, random_state=41)\n",
    "\n",
    "# XGBRegressor 모델을 학습 데이터에 대해 학습시킵니다.\n",
    "XGB_model.fit(X_train,Y_train)"
   ]
  },
  {
   "cell_type": "markdown",
   "metadata": {},
   "source": [
    "### 7. XGB 모델 - 성능 평가"
   ]
  },
  {
   "cell_type": "code",
   "execution_count": null,
   "metadata": {
    "colab": {
     "base_uri": "https://localhost:8080/"
    },
    "id": "Ila5zFZgQxIq",
    "outputId": "549708f8-fed9-4714-c3cc-ada9406727c7"
   },
   "outputs": [
    {
     "name": "stdout",
     "output_type": "stream",
     "text": [
      "Mean Absolute Error for Train Set is : 0.025\n",
      "Mean Absolute Percent Error for Train Set is : 0.239 %\n",
      "Mean Absolute Error for Test Set is : 0.053\n",
      "Mean Absolute Percent Error for Test Set is : 0.503 %\n"
     ]
    }
   ],
   "source": [
    "# 학습 데이터에 대한 예측을 수행합니다.\n",
    "Train_Prediction = (XGB_model.predict(X_train))\n",
    "\n",
    "# 테스트 데이터에 대한 예측을 수행합니다.\n",
    "Test_Prediction = (XGB_model.predict(X_test))\n",
    "\n",
    "# 학습 데이터에 대한 Mean Absolute Error(MAE)를 계산합니다.\n",
    "# MAE는 실제 값과 예측 값의 차이를 절댓값으로 변환한 후 평균을 낸 것입니다.\n",
    "XGB_Train_MAE = round(np.mean(np.abs(Y_train-Train_Prediction)),3)\n",
    "\n",
    "# 학습 데이터에 대한 Mean Absolute Percentage Error(MAPE)를 계산합니다.\n",
    "# MAPE는 실제 값과 예측 값의 차이를 절댓값으로 변환한 후, 이를 실제 값으로 나눠서 퍼센트로 표현한 값의 평균입니다.\n",
    "XGB_Train_MAPE = round((np.mean(np.abs((Y_train-Train_Prediction)/(Y_train)))*100),3)\n",
    "\n",
    "# 테스트 데이터에 대한 Mean Absolute Error(MAE)를 계산합니다.\n",
    "XGB_Test_MAE = round(np.mean(np.abs(Y_test-Test_Prediction)),3)\n",
    "\n",
    "# 테스트 데이터에 대한 Mean Absolute Percentage Error(MAPE)를 계산합니다.\n",
    "XGB_Test_MAPE = round((np.mean(np.abs((Y_test-Test_Prediction)/(Y_test)))*100),3)\n",
    "\n",
    "# 학습 데이터에 대한 MAE를 출력합니다.\n",
    "print(\"Mean Absolute Error for Train Set is : {:.3f}\".format(XGB_Train_MAE))\n",
    "\n",
    "# 학습 데이터에 대한 MAPE를 출력합니다.\n",
    "print(\"Mean Absolute Percent Error for Train Set is : {:.3f} %\".format(XGB_Train_MAPE))\n",
    "\n",
    "# 테스트 데이터에 대한 MAE를 출력합니다.\n",
    "print(\"Mean Absolute Error for Test Set is : {:.3f}\".format(XGB_Test_MAE))\n",
    "\n",
    "# 테스트 데이터에 대한 MAPE를 출력합니다.\n",
    "print(\"Mean Absolute Percent Error for Test Set is : {:.3f} %\".format(XGB_Test_MAPE))"
   ]
  },
  {
   "cell_type": "markdown",
   "metadata": {},
   "source": [
    "### 8. XGB 모델 - 변수 중요도"
   ]
  },
  {
   "cell_type": "markdown",
   "metadata": {},
   "source": [
    "#### 계산 방법\n",
    "\n",
    "기본적으로 \"F score\"라는 메트릭을 사용하여 각 특성의 중요도를 계산합니다. F score는 각 특성이 모델에서 얼마나 자주 사용되는지를 측정하는 메트릭입니다.\n",
    "\n",
    "XGBoost의 특성 중요도는 다음과 같은 방식으로 계산됩니다:\n",
    "\n",
    "    1. F score: 모델의 각 트리에서 특성이 분할에 사용된 횟수를 카운트합니다. 더 많이 사용된 특성일수록 더 중요하다고 판단합니다.\n",
    "\n",
    "    2. Gain: 각 특성이 트리에서 수행하는 분할에 기여하는 평균적인 \"Gain\"을 측정합니다. Gain은 분할 전후의 손실 함수의 감소량을 의미합니다. Gain이 높은 특성일수록 더 중요하다고 판단합니다.\n",
    "    \n",
    "$$\\operatorname{Gain}(S, A)=\\underbrace{\\operatorname{Entropy}(S)}_{\\text {original entropy of } \\mathrm{S}}-\\underbrace{\\sum_{v \\in \\text { values }(A)} \\frac{\\left|S_v\\right|}{|S|} \\cdot \\operatorname{Entropy}\\left(S_v\\right)}_{\\text {relative entropy of } \\mathrm{S}}$$\n",
    "\n",
    "    3. Coverage: 각 특성이 트리에서 수행하는 분할에서 얼마나 많은 샘플을 커버하는지를 측정합니다. 더 많은 샘플을 커버하는 특성일수록 더 중요하다고 판단합니다."
   ]
  },
  {
   "cell_type": "code",
   "execution_count": null,
   "metadata": {
    "colab": {
     "base_uri": "https://localhost:8080/",
     "height": 312
    },
    "id": "LsMb89cbS2Ie",
    "outputId": "f8407c24-43d9-4b40-b74d-70d5d93438d6"
   },
   "outputs": [
    {
     "data": {
      "text/plain": [
       "<matplotlib.axes._subplots.AxesSubplot at 0x7f411645a0d0>"
      ]
     },
     "execution_count": 13,
     "metadata": {},
     "output_type": "execute_result"
    },
    {
     "data": {
      "image/png": "[encoded data removed]",
      "text/plain": [
       "<Figure size 432x288 with 1 Axes>"
      ]
     },
     "metadata": {
      "needs_background": "light"
     },
     "output_type": "display_data"
    }
   ],
   "source": [
    "# XGBRegressor 모델의 특성 중요도를 그래프로 표시합니다.\n",
    "# 이 함수는 각 특성의 중요도를 수평 막대 그래프로 그려줍니다.\n",
    "xgboost.plot_importance(XGB_model)"
   ]
  }
 ],
 "metadata": {
  "colab": {
   "provenance": []
  },
  "kernelspec": {
   "display_name": "Python 3 (ipykernel)",
   "language": "python",
   "name": "python3"
  },
  "language_info": {
   "codemirror_mode": {
    "name": "ipython",
    "version": 3
   },
   "file_extension": ".py",
   "mimetype": "text/x-python",
   "name": "python",
   "nbconvert_exporter": "python",
   "pygments_lexer": "ipython3",
   "version": "3.8.5"
  }
 },
 "nbformat": 4,
 "nbformat_minor": 1
}

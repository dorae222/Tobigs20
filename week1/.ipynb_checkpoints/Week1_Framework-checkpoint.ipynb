{
 "cells": [
  {
   "cell_type": "markdown",
   "id": "17d0012f",
   "metadata": {},
   "source": [
    "### Library 와 Framework 의 차이 간단하게 서술하기. (100자 내외)"
   ]
  },
  {
   "cell_type": "markdown",
   "id": "5b1f8679",
   "metadata": {},
   "source": [
    "라이브러리는 선택적으로 사용할 수 있는 함수와 메서드의 집합입니다. 반면 프레임워크는 어플리케이션의 구조를 제공하며, 프레임워크의 규칙에 따라 개발해야 합니다. 라이브러리는 사용자가 통제하고, 프레임워크는 흐름을 제어합니다."
   ]
  },
  {
   "cell_type": "markdown",
   "id": "ec690599",
   "metadata": {},
   "source": [
    "### 딥러닝과 머신러닝의 관계 및 특징, 차이 간단하게 서술하기. (200자 내외)\n"
   ]
  },
  {
   "cell_type": "markdown",
   "id": "37641d02",
   "metadata": {},
   "source": [
    "머신러닝은 데이터에서 패턴을 학습하는 알고리즘의 집합입니다. 딥러닝은 머신러닝의 한 분야로, 인공신경망을 사용하여 복잡한 패턴을 학습합니다. 머신러닝은 다양한 방식으로 학습할 수 있지만, 딥러닝은 대량의 데이터와 컴퓨팅 파워가 필요하며, 추상적이고 복잡한 문제를 해결하는 데 뛰어납니다."
   ]
  }
 ],
 "metadata": {
  "kernelspec": {
   "display_name": "Python 3 (ipykernel)",
   "language": "python",
   "name": "python3"
  },
  "language_info": {
   "codemirror_mode": {
    "name": "ipython",
    "version": 3
   },
   "file_extension": ".py",
   "mimetype": "text/x-python",
   "name": "python",
   "nbconvert_exporter": "python",
   "pygments_lexer": "ipython3",
   "version": "3.9.13"
  }
 },
 "nbformat": 4,
 "nbformat_minor": 5
}

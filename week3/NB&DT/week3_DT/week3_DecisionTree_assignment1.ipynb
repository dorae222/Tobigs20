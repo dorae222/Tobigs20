{
 "cells": [
  {
   "cell_type": "markdown",
   "metadata": {},
   "source": [
    "# DecisionTree Assignment - 20기 OOO\n",
    "\n",
    "물음표 친 부분을 채우고 코드에 대한 주석을 자세하게 달아주세요!"
   ]
  },
  {
   "cell_type": "markdown",
   "metadata": {},
   "source": [
    "# Data Loading"
   ]
  },
  {
   "cell_type": "code",
   "execution_count": 1,
   "metadata": {},
   "outputs": [],
   "source": [
    "import pandas as pd \n",
    "import numpy as np"
   ]
  },
  {
   "cell_type": "code",
   "execution_count": 2,
   "metadata": {},
   "outputs": [
    {
     "data": {
      "text/html": [
       "<div>\n",
       "<style scoped>\n",
       "    .dataframe tbody tr th:only-of-type {\n",
       "        vertical-align: middle;\n",
       "    }\n",
       "\n",
       "    .dataframe tbody tr th {\n",
       "        vertical-align: top;\n",
       "    }\n",
       "\n",
       "    .dataframe thead th {\n",
       "        text-align: right;\n",
       "    }\n",
       "</style>\n",
       "<table border=\"1\" class=\"dataframe\">\n",
       "  <thead>\n",
       "    <tr style=\"text-align: right;\">\n",
       "      <th></th>\n",
       "      <th>age</th>\n",
       "      <th>income</th>\n",
       "      <th>student</th>\n",
       "      <th>credit_rating</th>\n",
       "      <th>class_buys_computer</th>\n",
       "    </tr>\n",
       "  </thead>\n",
       "  <tbody>\n",
       "    <tr>\n",
       "      <th>0</th>\n",
       "      <td>youth</td>\n",
       "      <td>high</td>\n",
       "      <td>no</td>\n",
       "      <td>fair</td>\n",
       "      <td>no</td>\n",
       "    </tr>\n",
       "    <tr>\n",
       "      <th>1</th>\n",
       "      <td>youth</td>\n",
       "      <td>high</td>\n",
       "      <td>no</td>\n",
       "      <td>excellent</td>\n",
       "      <td>no</td>\n",
       "    </tr>\n",
       "    <tr>\n",
       "      <th>2</th>\n",
       "      <td>middle_aged</td>\n",
       "      <td>high</td>\n",
       "      <td>no</td>\n",
       "      <td>fair</td>\n",
       "      <td>yes</td>\n",
       "    </tr>\n",
       "    <tr>\n",
       "      <th>3</th>\n",
       "      <td>senior</td>\n",
       "      <td>medium</td>\n",
       "      <td>no</td>\n",
       "      <td>fair</td>\n",
       "      <td>yes</td>\n",
       "    </tr>\n",
       "    <tr>\n",
       "      <th>4</th>\n",
       "      <td>senior</td>\n",
       "      <td>low</td>\n",
       "      <td>yes</td>\n",
       "      <td>fair</td>\n",
       "      <td>yes</td>\n",
       "    </tr>\n",
       "    <tr>\n",
       "      <th>5</th>\n",
       "      <td>senior</td>\n",
       "      <td>low</td>\n",
       "      <td>yes</td>\n",
       "      <td>excellent</td>\n",
       "      <td>no</td>\n",
       "    </tr>\n",
       "    <tr>\n",
       "      <th>6</th>\n",
       "      <td>middle_aged</td>\n",
       "      <td>low</td>\n",
       "      <td>yes</td>\n",
       "      <td>excellent</td>\n",
       "      <td>yes</td>\n",
       "    </tr>\n",
       "    <tr>\n",
       "      <th>7</th>\n",
       "      <td>youth</td>\n",
       "      <td>medium</td>\n",
       "      <td>no</td>\n",
       "      <td>fair</td>\n",
       "      <td>no</td>\n",
       "    </tr>\n",
       "    <tr>\n",
       "      <th>8</th>\n",
       "      <td>youth</td>\n",
       "      <td>low</td>\n",
       "      <td>yes</td>\n",
       "      <td>fair</td>\n",
       "      <td>yes</td>\n",
       "    </tr>\n",
       "    <tr>\n",
       "      <th>9</th>\n",
       "      <td>senior</td>\n",
       "      <td>medium</td>\n",
       "      <td>yes</td>\n",
       "      <td>fair</td>\n",
       "      <td>yes</td>\n",
       "    </tr>\n",
       "    <tr>\n",
       "      <th>10</th>\n",
       "      <td>youth</td>\n",
       "      <td>medium</td>\n",
       "      <td>yes</td>\n",
       "      <td>excellent</td>\n",
       "      <td>yes</td>\n",
       "    </tr>\n",
       "    <tr>\n",
       "      <th>11</th>\n",
       "      <td>middle_aged</td>\n",
       "      <td>medium</td>\n",
       "      <td>no</td>\n",
       "      <td>excellent</td>\n",
       "      <td>yes</td>\n",
       "    </tr>\n",
       "    <tr>\n",
       "      <th>12</th>\n",
       "      <td>middle_aged</td>\n",
       "      <td>high</td>\n",
       "      <td>yes</td>\n",
       "      <td>fair</td>\n",
       "      <td>yes</td>\n",
       "    </tr>\n",
       "    <tr>\n",
       "      <th>13</th>\n",
       "      <td>senior</td>\n",
       "      <td>medium</td>\n",
       "      <td>no</td>\n",
       "      <td>excellent</td>\n",
       "      <td>no</td>\n",
       "    </tr>\n",
       "  </tbody>\n",
       "</table>\n",
       "</div>"
      ],
      "text/plain": [
       "            age  income student credit_rating class_buys_computer\n",
       "0         youth    high      no          fair                  no\n",
       "1         youth    high      no     excellent                  no\n",
       "2   middle_aged    high      no          fair                 yes\n",
       "3        senior  medium      no          fair                 yes\n",
       "4        senior     low     yes          fair                 yes\n",
       "5        senior     low     yes     excellent                  no\n",
       "6   middle_aged     low     yes     excellent                 yes\n",
       "7         youth  medium      no          fair                  no\n",
       "8         youth     low     yes          fair                 yes\n",
       "9        senior  medium     yes          fair                 yes\n",
       "10        youth  medium     yes     excellent                 yes\n",
       "11  middle_aged  medium      no     excellent                 yes\n",
       "12  middle_aged    high     yes          fair                 yes\n",
       "13       senior  medium      no     excellent                  no"
      ]
     },
     "execution_count": 2,
     "metadata": {},
     "output_type": "execute_result"
    }
   ],
   "source": [
    "pd_data = pd.read_csv('https://raw.githubusercontent.com/AugustLONG/ML01/master/01decisiontree/AllElectronics.csv')\n",
    "pd_data.drop(\"RID\",axis=1, inplace = True) #RID는 그냥 순서라서 삭제\n",
    "pd_data"
   ]
  },
  {
   "cell_type": "markdown",
   "metadata": {},
   "source": [
    "## Gini 계수를 구하는 함수 만들기"
   ]
  },
  {
   "cell_type": "markdown",
   "metadata": {},
   "source": [
    "<img src=\"gini.png\" width=\"200\">\n",
    "\n",
    "- Input: df(데이터), label(타겟변수명)\n",
    "- 해당 결과는 아래와 같이 나와야 합니다.\n",
    "\n",
    "- 지니계수는 데이터의 통계적 분산 정도를 정량화 해서 표현한 값이다.\n",
    "- 어떤 집합의 gini index가 높을수록 그 집단의 데이터가 분산되어 있음을 확인할 수 있다."
   ]
  },
  {
   "cell_type": "code",
   "execution_count": 3,
   "metadata": {},
   "outputs": [],
   "source": [
    "def get_gini(df, label):\n",
    "    # 각 클래스의 확률을 계산\n",
    "    p1 = df[label].value_counts(normalize=True).get('yes', 0)\n",
    "    p2 = df[label].value_counts(normalize=True).get('no', 0)\n",
    "    \n",
    "    # 지니 계수 계산\n",
    "    gini = 1 - (p1**2 + p2**2)\n",
    "    \n",
    "    return gini"
   ]
  },
  {
   "cell_type": "code",
   "execution_count": 4,
   "metadata": {},
   "outputs": [
    {
     "data": {
      "text/plain": [
       "0.4591836734693877"
      ]
     },
     "execution_count": 4,
     "metadata": {},
     "output_type": "execute_result"
    }
   ],
   "source": [
    "get_gini(pd_data,'class_buys_computer')"
   ]
  },
  {
   "cell_type": "markdown",
   "metadata": {},
   "source": [
    "## Feature의 Class를 이진 분류로 만들기\n",
    "- ex) {A,B,C} -> ({A}, {B,C}), ({B}, {A,C}), ({C}, {A,B})"
   ]
  },
  {
   "cell_type": "markdown",
   "metadata": {},
   "source": [
    "- Input: df(데이터), attribute(Gini index를 구하고자 하는 변수명)\n",
    "- Income 변수를 결과로 출력해주세요."
   ]
  },
  {
   "cell_type": "code",
   "execution_count": 5,
   "metadata": {},
   "outputs": [],
   "source": [
    "from itertools import combinations\n",
    "\n",
    "# 가능한 모든 이진 분할을 얻는 함수\n",
    "def get_binary_split(df, attribute):\n",
    "    uniques = list(df[attribute].unique()) # 속성 데이터 고유값들을 담은 리스트 \n",
    "    \n",
    "    result = []\n",
    "    \n",
    "    # 모든 조합 얻기\n",
    "    for r in range(1, len(uniques)):\n",
    "        comb = combinations(uniques, r)\n",
    "        for i in list(comb):\n",
    "            result.append(list(i))\n",
    "            \n",
    "    return result"
   ]
  },
  {
   "cell_type": "code",
   "execution_count": 6,
   "metadata": {},
   "outputs": [
    {
     "data": {
      "text/plain": [
       "[['high'],\n",
       " ['medium'],\n",
       " ['low'],\n",
       " ['high', 'medium'],\n",
       " ['high', 'low'],\n",
       " ['medium', 'low']]"
      ]
     },
     "execution_count": 6,
     "metadata": {},
     "output_type": "execute_result"
    }
   ],
   "source": [
    "get_binary_split(pd_data,'income')"
   ]
  },
  {
   "cell_type": "markdown",
   "metadata": {},
   "source": [
    "## 모든 이진분류의 경우의 Gini index를 구하는 함수 만들기\n",
    "- 위에서 완성한 두 함수를 사용하여 만들어주세요!\n",
    "- 해당 결과는 아래와 같이 나와야 합니다."
   ]
  },
  {
   "cell_type": "code",
   "execution_count": 7,
   "metadata": {},
   "outputs": [],
   "source": [
    "def get_attribute_gini_index(df, attribute, label):\n",
    "    # 결과를 저장할 빈 딕셔너리를 초기화\n",
    "    result = {}\n",
    "\n",
    "    # 주어진 속성에 대한 모든 가능한 이진 분할\n",
    "    binary_split = get_binary_split(df, attribute)\n",
    "\n",
    "    # 데이터프레임의 행 수를 저장\n",
    "    n = len(df)\n",
    "\n",
    "    # 각 이진 분할에 대해 반복\n",
    "    for split in binary_split:\n",
    "        # 분할 이름을 튜플로 저장\n",
    "        split_name = tuple(split)\n",
    "\n",
    "        # 분할에 속하는 행을 선택하기 위한 마스크를 생성\n",
    "        mask = df[attribute].isin(split)\n",
    "\n",
    "        # 마스크를 사용해 데이터프레임을 두 부분으로 나누기\n",
    "        df1 = df[mask]\n",
    "        df2 = df[~mask]\n",
    "\n",
    "        # 두 부분 각각에 대한 지니 지수를 계산\n",
    "        gini1 = get_gini(df1, label)\n",
    "        gini2 = get_gini(df2, label)\n",
    "\n",
    "        # 각 지니 지수를 해당 부분의 크기에 따라 가중치를 두어 합산\n",
    "        # 전체 데이터프레임을 주어진 속성으로 분할했을 때의 지니 지수\n",
    "        gini_index = len(df1)/n * gini1 + len(df2)/n * gini2\n",
    "\n",
    "        # 계산한 지니 지수를 결과 딕셔너리에 저장\n",
    "        result[split_name] = gini_index\n",
    "\n",
    "    return result"
   ]
  },
  {
   "cell_type": "code",
   "execution_count": 8,
   "metadata": {},
   "outputs": [
    {
     "data": {
      "text/plain": [
       "{('high',): 0.4428571428571429,\n",
       " ('medium',): 0.4583333333333333,\n",
       " ('low',): 0.45,\n",
       " ('high', 'medium'): 0.45,\n",
       " ('high', 'low'): 0.4583333333333333,\n",
       " ('medium', 'low'): 0.4428571428571429}"
      ]
     },
     "execution_count": 8,
     "metadata": {},
     "output_type": "execute_result"
    }
   ],
   "source": [
    "get_attribute_gini_index(pd_data, 'income', 'class_buys_computer')"
   ]
  },
  {
   "cell_type": "markdown",
   "metadata": {},
   "source": [
    "- 여기서 가장 작은 Gini index값을 가지는 class를 확인합니다."
   ]
  },
  {
   "cell_type": "code",
   "execution_count": 9,
   "metadata": {
    "scrolled": true
   },
   "outputs": [
    {
     "data": {
      "text/plain": [
       "(('high',), 0.4428571428571429)"
      ]
     },
     "execution_count": 9,
     "metadata": {},
     "output_type": "execute_result"
    }
   ],
   "source": [
    "min(get_attribute_gini_index(pd_data, 'income', 'class_buys_computer').items())"
   ]
  },
  {
   "cell_type": "code",
   "execution_count": 10,
   "metadata": {},
   "outputs": [
    {
     "data": {
      "text/plain": [
       "('high',)"
      ]
     },
     "execution_count": 10,
     "metadata": {},
     "output_type": "execute_result"
    }
   ],
   "source": [
    "min(get_attribute_gini_index(pd_data, 'income', 'class_buys_computer').items())[0]"
   ]
  },
  {
   "cell_type": "markdown",
   "metadata": {},
   "source": [
    "## 분류를 하는 데 가장 중요한 변수를 선정하고, 해당 변수의 Gini index를 제시해주세요.\n",
    "- 모든 변수에 대한 Gini index(최소)를 출력해주세요.\n",
    "- 해당 결과는 아래와 같이 나와야 합니다."
   ]
  },
  {
   "cell_type": "code",
   "execution_count": 11,
   "metadata": {},
   "outputs": [
    {
     "name": "stdout",
     "output_type": "stream",
     "text": [
      "Minimum Gini Index of age : 0.3571\n",
      "Minimum Gini Index of income : 0.4429\n",
      "Minimum Gini Index of student : 0.3673\n",
      "Minimum Gini Index of credit_rating : 0.4286\n"
     ]
    }
   ],
   "source": [
    "# 변수명 중 마지막에 위치한 label 컬럼 얻기\n",
    "label = pd_data.columns[-1]\n",
    "# label 변수를 제외한 변수명 얻기\n",
    "features = list(pd_data.columns[:-1])\n",
    "\n",
    "# 각 변수를 대상으로 반복문 수행(해당 변수 중 가장 낮은 gini 계수와 변수 출력)\n",
    "for feature in features:\n",
    "    gini_indices = get_attribute_gini_index(pd_data, feature, label)\n",
    "    min_gini_index = min(gini_indices.values())\n",
    "    print(f\"Minimum Gini Index of {feature} : {min_gini_index:.4f}\")"
   ]
  },
  {
   "cell_type": "markdown",
   "metadata": {},
   "source": [
    "gini index가 가장 작게 나온 'age'를 가장 중요한 변수로 선정합니다.\n",
    "\n",
    "이어서 해당 변수의 이진 분류된 각 class에 대해 Gini index도 계산합니다."
   ]
  },
  {
   "cell_type": "code",
   "execution_count": 12,
   "metadata": {},
   "outputs": [
    {
     "data": {
      "text/plain": [
       "{('youth',): 0.3936507936507937,\n",
       " ('middle_aged',): 0.35714285714285715,\n",
       " ('senior',): 0.45714285714285713,\n",
       " ('youth', 'middle_aged'): 0.45714285714285713,\n",
       " ('youth', 'senior'): 0.35714285714285715,\n",
       " ('middle_aged', 'senior'): 0.3936507936507937}"
      ]
     },
     "execution_count": 12,
     "metadata": {},
     "output_type": "execute_result"
    }
   ],
   "source": [
    "get_attribute_gini_index(pd_data, 'age', 'class_buys_computer')"
   ]
  },
  {
   "cell_type": "markdown",
   "metadata": {},
   "source": [
    "'age' 변수에서 gini index가 가장 작게 나온 'middle_aged' class를 선정합니다."
   ]
  },
  {
   "cell_type": "markdown",
   "metadata": {},
   "source": [
    "## Entropy 를 구하는 함수 만들기\n",
    "\n",
    "<img src = https://miro.medium.com/max/1122/0*DkWdyGidNSfdT1Nu.png width = \"350\">"
   ]
  },
  {
   "cell_type": "code",
   "execution_count": 13,
   "metadata": {},
   "outputs": [],
   "source": [
    "from math import log2\n",
    "\n",
    "def getEntropy(df, feature) :\n",
    "    # 각 컬럼의 확률 계산\n",
    "    probabilities = df[feature].value_counts(normalize=True)\n",
    "    # 엔트로피 계산\n",
    "    entropy = -sum([p * log2(p) for p in probabilities])\n",
    "    \n",
    "    return entropy"
   ]
  },
  {
   "cell_type": "code",
   "execution_count": 14,
   "metadata": {},
   "outputs": [
    {
     "data": {
      "text/plain": [
       "0.9402859586706311"
      ]
     },
     "execution_count": 14,
     "metadata": {},
     "output_type": "execute_result"
    }
   ],
   "source": [
    "getEntropy(pd_data, \"class_buys_computer\")"
   ]
  },
  {
   "cell_type": "code",
   "execution_count": 15,
   "metadata": {},
   "outputs": [],
   "source": [
    "# 가장 중요한 변수로 선정된 목표변수를 제외한 다른 변수들에 대해\n",
    "# 각 칼럼별로 엔트로피를 구해주는 함수를 작성해주세요.\n",
    "\n",
    "def getGainA(df, feature):\n",
    "    # 결과를 저장할 빈 딕셔너리를 초기화\n",
    "    result = {}\n",
    "\n",
    "    # 목표 속성의 엔트로피를 계산\n",
    "    entropy_parent = getEntropy(df, feature)\n",
    "    \n",
    "    # 컬럼별 반복\n",
    "    for col in df.columns:\n",
    "        # 목표 컬럼 제외\n",
    "        if col == feature:\n",
    "            continue\n",
    "\n",
    "        # 자식 노드의 엔트로피를 초기화\n",
    "        entropy_children = 0\n",
    "\n",
    "        # 현재 컬럼 기준으로 데이터프레임을 그룹화\n",
    "        df_group = df.groupby(col)\n",
    "\n",
    "        # 각 그룹에 대해 반복\n",
    "        for group, group_df in df_group:\n",
    "            # 현재 그룹의 가중치를 계산\n",
    "            weight = len(group_df) / len(df)\n",
    "\n",
    "            # 현재 그룹의 엔트로피를 계산하고, 이를 가중치에 따라 누적\n",
    "            entropy_children += weight * getEntropy(group_df, feature)\n",
    "\n",
    "        # 목표 속성의 엔트로피에서 자식 노드의 엔트로피를 뺌으로써 정보 획득을 계산\n",
    "        result[col] = entropy_parent - entropy_children\n",
    "        \n",
    "    return result"
   ]
  },
  {
   "cell_type": "code",
   "execution_count": 16,
   "metadata": {},
   "outputs": [
    {
     "data": {
      "text/plain": [
       "{'age': 0.24674981977443933,\n",
       " 'income': 0.02922256565895487,\n",
       " 'student': 0.15183550136234159,\n",
       " 'credit_rating': 0.04812703040826949}"
      ]
     },
     "execution_count": 16,
     "metadata": {},
     "output_type": "execute_result"
    }
   ],
   "source": [
    "getGainA(pd_data, \"class_buys_computer\")"
   ]
  }
 ],
 "metadata": {
  "kernelspec": {
   "display_name": "Python 3 (ipykernel)",
   "language": "python",
   "name": "python3"
  },
  "language_info": {
   "codemirror_mode": {
    "name": "ipython",
    "version": 3
   },
   "file_extension": ".py",
   "mimetype": "text/x-python",
   "name": "python",
   "nbconvert_exporter": "python",
   "pygments_lexer": "ipython3",
   "version": "3.9.13"
  },
  "toc": {
   "base_numbering": 1,
   "nav_menu": {},
   "number_sections": true,
   "sideBar": true,
   "skip_h1_title": false,
   "title_cell": "Table of Contents",
   "title_sidebar": "Contents",
   "toc_cell": false,
   "toc_position": {},
   "toc_section_display": true,
   "toc_window_display": false
  },
  "varInspector": {
   "cols": {
    "lenName": 16,
    "lenType": 16,
    "lenVar": 40
   },
   "kernels_config": {
    "python": {
     "delete_cmd_postfix": "",
     "delete_cmd_prefix": "del ",
     "library": "var_list.py",
     "varRefreshCmd": "print(var_dic_list())"
    },
    "r": {
     "delete_cmd_postfix": ") ",
     "delete_cmd_prefix": "rm(",
     "library": "var_list.r",
     "varRefreshCmd": "cat(var_dic_list()) "
    }
   },
   "types_to_exclude": [
    "module",
    "function",
    "builtin_function_or_method",
    "instance",
    "_Feature"
   ],
   "window_display": false
  }
 },
 "nbformat": 4,
 "nbformat_minor": 4
}

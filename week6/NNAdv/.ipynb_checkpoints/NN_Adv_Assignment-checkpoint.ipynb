{
 "cells": [
  {
   "cell_type": "markdown",
   "id": "b0ba9b89",
   "metadata": {},
   "source": [
    "## NN Adv Assignment"
   ]
  },
  {
   "cell_type": "code",
   "execution_count": null,
   "id": "80f09603",
   "metadata": {},
   "outputs": [],
   "source": [
    "import numpy as np\n",
    "import pandas as pd\n",
    "import matplotlib.pyplot as plt\n",
    "\n",
    "### Pytorch\n",
    "\n",
    "import torch\n",
    "import torch.nn as nn\n",
    "import torch.nn.functional as F\n",
    "\n",
    "### TensorFlow\n",
    "\n",
    "import tensorflow as tf\n",
    "from tensorflow import keras\n",
    "\n",
    "import warnings\n",
    "warnings.filterwarnings(action='ignore')"
   ]
  },
  {
   "cell_type": "markdown",
   "id": "7e8c1bab",
   "metadata": {},
   "source": [
    "### Load Data"
   ]
  },
  {
   "cell_type": "code",
   "execution_count": null,
   "id": "defff792",
   "metadata": {},
   "outputs": [],
   "source": [
    "train = pd.read_csv('Train.csv')\n",
    "test = pd.read_csv('Test.csv')"
   ]
  },
  {
   "cell_type": "code",
   "execution_count": null,
   "id": "ae6f6178",
   "metadata": {},
   "outputs": [],
   "source": [
    "train.head()"
   ]
  },
  {
   "cell_type": "code",
   "execution_count": null,
   "id": "4e92830d",
   "metadata": {},
   "outputs": [],
   "source": [
    "train['label'].nunique()"
   ]
  },
  {
   "cell_type": "code",
   "execution_count": null,
   "id": "2133c848",
   "metadata": {},
   "outputs": [],
   "source": [
    "test.head()"
   ]
  },
  {
   "cell_type": "code",
   "execution_count": null,
   "id": "35dc5b73",
   "metadata": {},
   "outputs": [],
   "source": [
    "X = train.iloc[:, :-1].values\n",
    "y = train.iloc[:, -1].values"
   ]
  },
  {
   "cell_type": "code",
   "execution_count": null,
   "id": "26c6d257",
   "metadata": {},
   "outputs": [],
   "source": [
    "pltsize = 1\n",
    "plt.figure(figsize=(20 * pltsize, pltsize))\n",
    "for idx in range(0, 20):\n",
    "  plt.subplot(1, 20, idx + 1)\n",
    "  plt.axis('off')\n",
    "  plt.imshow(X[idx].reshape(28, 28), cmap='gray_r')\n",
    "  plt.title(f'Class : {y[idx]}')"
   ]
  },
  {
   "cell_type": "code",
   "execution_count": null,
   "id": "dbb3b988",
   "metadata": {},
   "outputs": [],
   "source": [
    "X_test = test.values"
   ]
  },
  {
   "cell_type": "code",
   "execution_count": null,
   "id": "9d06175b",
   "metadata": {},
   "outputs": [],
   "source": [
    "pltsize = 1\n",
    "plt.figure(figsize=(20 * pltsize, pltsize))\n",
    "for idx in range(0, 20):\n",
    "  plt.subplot(1, 20, idx + 1)\n",
    "  plt.axis('off')\n",
    "  plt.imshow(X_test[idx].reshape(28, 28), cmap='gray_r')"
   ]
  },
  {
   "cell_type": "markdown",
   "id": "c2df1b99",
   "metadata": {},
   "source": [
    "### Train-Test Split"
   ]
  },
  {
   "cell_type": "code",
   "execution_count": null,
   "id": "7b16076f",
   "metadata": {},
   "outputs": [],
   "source": [
    "from sklearn.model_selection import train_test_split\n",
    "\n",
    "X_train, X_val, y_train, y_val = train_test_split(X, y, test_size = 0.2, random_state = 16, stratify = y, shuffle = True)\n",
    "\n",
    "## Normalization\n",
    "X_train = X_train / 255.0\n",
    "X_val = X_val / 255.0\n",
    "X_test = X_test / 255.0\n",
    "\n",
    "X_train = torch.FloatTensor(X_train)\n",
    "y_train = torch.LongTensor(y_train)\n",
    "\n",
    "X_val = torch.FloatTensor(X_val)\n",
    "y_val = torch.LongTensor(y_val)\n",
    "\n",
    "X_test = torch.FloatTensor(X_test)"
   ]
  },
  {
   "cell_type": "code",
   "execution_count": null,
   "id": "171b8eef",
   "metadata": {},
   "outputs": [],
   "source": [
    "if torch.cuda.is_available():\n",
    "  DEVICE = torch.device('cuda')\n",
    "else:\n",
    "  DEVICE = torch.device('cpu')\n",
    "\n",
    "print(DEVICE)"
   ]
  },
  {
   "cell_type": "code",
   "execution_count": null,
   "id": "31358efa",
   "metadata": {},
   "outputs": [],
   "source": [
    "#Batch Size는 조정 가능합니다.\n",
    "BATCH_SIZE = 128\n",
    "#Epoch는 고정해주세요.\n",
    "EPOCHS = 15"
   ]
  },
  {
   "cell_type": "code",
   "execution_count": null,
   "id": "4edf60a0",
   "metadata": {},
   "outputs": [],
   "source": [
    "from torch.utils.data import Dataset\n",
    "from torch.utils.data import DataLoader\n",
    "\n",
    "class DataSet(Dataset):\n",
    "  def __init__(self, image, label = None):\n",
    "    super(DataSet, self).__init__()\n",
    "    self._image = image\n",
    "    self._label = label\n",
    "\n",
    "  def __len__(self):\n",
    "    return len(self._image)\n",
    "\n",
    "  def __getitem__(self, idx):\n",
    "    if self._label is None:\n",
    "      image = self._image[idx]\n",
    "      return image\n",
    "\n",
    "    else:\n",
    "      image = self._image[idx]\n",
    "      label = self._label[idx]\n",
    "\n",
    "      return image, label"
   ]
  },
  {
   "cell_type": "code",
   "execution_count": null,
   "id": "86b71bfd",
   "metadata": {},
   "outputs": [],
   "source": [
    "train_dataset = DataSet(X_train, y_train)\n",
    "train_loader = DataLoader(train_dataset, batch_size = BATCH_SIZE, shuffle = True, drop_last = False)\n",
    "\n",
    "val_dataset = DataSet(X_val, y_val)\n",
    "val_loader = DataLoader(val_dataset, batch_size = BATCH_SIZE, shuffle = True, drop_last = False)\n",
    "\n",
    "test_dataset = DataSet(X_test)\n",
    "test_loader = DataLoader(test_dataset, batch_size = BATCH_SIZE, shuffle = False, drop_last = False)"
   ]
  },
  {
   "cell_type": "code",
   "execution_count": null,
   "id": "6f7c828e",
   "metadata": {},
   "outputs": [],
   "source": [
    "def train(model, train_loader):\n",
    "  model.train()\n",
    "  train_loss = 0\n",
    "  correct = 0\n",
    "\n",
    "  for image, label in train_loader:\n",
    "    image = image.to(DEVICE)\n",
    "    label = label.to(DEVICE)\n",
    "    optimizer.zero_grad()\n",
    "    output = model(image)\n",
    "    loss = criterion(output, label)\n",
    "    loss.backward()\n",
    "    optimizer.step()\n",
    "\n",
    "    train_loss += loss.item()\n",
    "    prediction = output.max(1, keepdim = True)[1]\n",
    "    correct += prediction.eq(label.view_as(prediction)).sum().item()\n",
    "      \n",
    "  train_loss /= len(train_loader)\n",
    "  train_accuracy = 100. * correct / len(train_loader.dataset)\n",
    "  return train_loss, train_accuracy\n",
    "\n",
    "def evaluate(model, test_loader):\n",
    "  model.eval()\n",
    "  test_loss = 0\n",
    "  correct = 0\n",
    "\n",
    "  with torch.no_grad():\n",
    "    for image, label in test_loader:\n",
    "      image = image.to(DEVICE)\n",
    "      label = label.to(DEVICE)\n",
    "      output = model(image)\n",
    "      test_loss += criterion(output, label).item()\n",
    "      prediction = output.max(1, keepdim = True)[1]\n",
    "      correct += prediction.eq(label.view_as(prediction)).sum().item()\n",
    "\n",
    "  test_loss /= len(test_loader)\n",
    "  test_accuracy = 100. * correct / len(test_loader.dataset)\n",
    "  return test_loss, test_accuracy\n",
    "\n",
    "def pred(model, test_loader):\n",
    "  model.eval()\n",
    "  pred_li = []\n",
    "\n",
    "  with torch.no_grad():\n",
    "    for image in test_loader:\n",
    "      image = image.to(DEVICE)\n",
    "      output = model(image)\n",
    "      pred_li.append(output.cpu().numpy().argmax(axis=1))\n",
    "\n",
    "  return np.concatenate(pred_li)"
   ]
  },
  {
   "cell_type": "markdown",
   "id": "366e39b2",
   "metadata": {},
   "source": [
    "## 직접 Network를 설계하고, 성능을 시험해보자."
   ]
  },
  {
   "cell_type": "code",
   "execution_count": null,
   "id": "fed8fcfc",
   "metadata": {},
   "outputs": [],
   "source": [
    "class MyNet(nn.Module):\n",
    "    def __init__(self) -> None:\n",
    "        super().__init__()\n",
    "        #여기에 layer들을 삽입\n",
    "        \n",
    "    def forward(self, x):\n",
    "        #여기에 Forward 함수 삽입\n",
    "\n",
    "        return x\n",
    "    \n",
    "model = MyNet().to(DEVICE)\n",
    "#적절한 optimizer를 선택\n",
    "optimizer = \n",
    "#적절한 Loss function을 선택\n",
    "criterion = nn.CrossEntropyLoss()"
   ]
  },
  {
   "cell_type": "code",
   "execution_count": null,
   "id": "14b4c502",
   "metadata": {},
   "outputs": [],
   "source": [
    "result_list = []\n",
    "for epoch in range(1, EPOCHS + 1):\n",
    "  train_loss, train_accuracy = train(model, train_loader)\n",
    "  val_loss, val_accuracy = evaluate(model, val_loader)\n",
    "  print(f\"[EPOCH: {epoch}], \\tTrain Loss: {train_loss:.4f}, \\tTrain Accuracy: {train_accuracy:.2f} %, \\tVal Loss: {val_loss:.4f}, \\tVal Accuracy: {val_accuracy:.2f} % \\n\")\n",
    "  result = {\n",
    "    'EPOCH': epoch,\n",
    "    'Train Loss': train_loss,\n",
    "    'Train Accuracy': train_accuracy,\n",
    "    'Val Loss': val_loss,\n",
    "    'Val Accuracy': val_accuracy}\n",
    "  \n",
    "  result_list.append(result)\n",
    "result_df = pd.DataFrame(result_list)\n",
    "\n",
    "fig, axes = plt.subplots(nrows=1, ncols=2, figsize=(15, 5))\n",
    "\n",
    "axes[0].plot(result_df['EPOCH'], result_df['Train Loss'], label='Train Loss')\n",
    "axes[0].plot(result_df['EPOCH'], result_df['Val Loss'], label='Val Loss')\n",
    "axes[0].set_ylim(0.0, 1)\n",
    "axes[0].legend()\n",
    "axes[0].set_title('Loss')\n",
    "\n",
    "axes[1].plot(result_df['EPOCH'], result_df['Train Accuracy'], label='Train Accuracy')\n",
    "axes[1].plot(result_df['EPOCH'], result_df['Val Accuracy'], label='Val Accuracy')\n",
    "axes[1].set_ylim(80, 100)\n",
    "axes[1].legend()\n",
    "axes[1].set_title('ACC')\n",
    "\n",
    "plt.show()"
   ]
  },
  {
   "cell_type": "markdown",
   "id": "72c7b416",
   "metadata": {},
   "source": [
    "## 결론을 작성해주세요:"
   ]
  },
  {
   "cell_type": "code",
   "execution_count": null,
   "id": "dab274f4",
   "metadata": {},
   "outputs": [],
   "source": [
    "'''\n",
    "\n",
    "'''"
   ]
  }
 ],
 "metadata": {
  "kernelspec": {
   "display_name": "Python 3 (ipykernel)",
   "language": "python",
   "name": "python3"
  },
  "language_info": {
   "codemirror_mode": {
    "name": "ipython",
    "version": 3
   },
   "file_extension": ".py",
   "mimetype": "text/x-python",
   "name": "python",
   "nbconvert_exporter": "python",
   "pygments_lexer": "ipython3",
   "version": "3.9.13"
  },
  "vscode": {
   "interpreter": {
    "hash": "e593ac106456af50ce7af38f9671c411b49d6cd90f9b885e167f0f594e09038c"
   }
  }
 },
 "nbformat": 4,
 "nbformat_minor": 5
}
